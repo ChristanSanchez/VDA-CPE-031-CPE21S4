{
  "nbformat": 4,
  "nbformat_minor": 0,
  "metadata": {
    "colab": {
      "provenance": [],
      "authorship_tag": "ABX9TyMBVk3TC7YyOdJqet9rHGS8",
      "include_colab_link": true
    },
    "kernelspec": {
      "name": "python3",
      "display_name": "Python 3"
    },
    "language_info": {
      "name": "python"
    }
  },
  "cells": [
    {
      "cell_type": "markdown",
      "metadata": {
        "id": "view-in-github",
        "colab_type": "text"
      },
      "source": [
        "<a href=\"https://colab.research.google.com/github/ChristanSanchez/VDA-CPE-031-CPE21S4/blob/main/Exercise_1.ipynb\" target=\"_parent\"><img src=\"https://colab.research.google.com/assets/colab-badge.svg\" alt=\"Open In Colab\"/></a>"
      ]
    },
    {
      "cell_type": "markdown",
      "source": [
        "Exercise No.1\n",
        "\n",
        "# 1.**Variables and Data types**"
      ],
      "metadata": {
        "id": "VeQg53om1ryn"
      }
    },
    {
      "cell_type": "markdown",
      "source": [
        "***Numbers***"
      ],
      "metadata": {
        "id": "ttz_wcRr5vgk"
      }
    },
    {
      "cell_type": "code",
      "source": [
        "varNum = 123\n",
        "pi = 3.14159"
      ],
      "metadata": {
        "id": "BfQPcceJ2oW9"
      },
      "execution_count": null,
      "outputs": []
    },
    {
      "cell_type": "markdown",
      "source": [
        "***Strings***"
      ],
      "metadata": {
        "id": "ZUyK6l3x2u6m"
      }
    },
    {
      "cell_type": "code",
      "source": [
        "varString = \"Hello world!\"\n",
        "varText = 'This is a String'"
      ],
      "metadata": {
        "id": "lNoORBm42wUn"
      },
      "execution_count": null,
      "outputs": []
    },
    {
      "cell_type": "markdown",
      "source": [
        "***Lists***"
      ],
      "metadata": {
        "id": "2lfvtPXB24RO"
      }
    },
    {
      "cell_type": "code",
      "source": [
        "varList = [\"abc\", 123]"
      ],
      "metadata": {
        "id": "YyGcnZdl25P-"
      },
      "execution_count": null,
      "outputs": []
    },
    {
      "cell_type": "markdown",
      "source": [
        "***Tuples***"
      ],
      "metadata": {
        "id": "E1P89PbF2_NF"
      }
    },
    {
      "cell_type": "code",
      "source": [
        "varTuple = 'abc, 123, \"HELLO'"
      ],
      "metadata": {
        "id": "Be5aQlCA3AT8"
      },
      "execution_count": null,
      "outputs": []
    },
    {
      "cell_type": "markdown",
      "source": [
        "***Dictionaries***"
      ],
      "metadata": {
        "id": "HYuTV6sv3FBU"
      }
    },
    {
      "cell_type": "code",
      "source": [
        "var = 3\n",
        "varDict = {'first':1,'2':'2nd',3:var}"
      ],
      "metadata": {
        "id": "WJMWswCG3Gx0"
      },
      "execution_count": null,
      "outputs": []
    },
    {
      "cell_type": "code",
      "source": [
        "varDict = {}\n",
        "varDict['first']= 1\n",
        "varDict['2'] = '2nd'\n",
        "varDict[3] = var"
      ],
      "metadata": {
        "id": "eUNx58qq3dzG"
      },
      "execution_count": null,
      "outputs": []
    },
    {
      "cell_type": "markdown",
      "source": [
        "# 2. **Arithmetic**"
      ],
      "metadata": {
        "id": "CMIoIRP64U-9"
      }
    },
    {
      "cell_type": "markdown",
      "source": [
        "***Addition***"
      ],
      "metadata": {
        "id": "NFvqyd_84b5d"
      }
    },
    {
      "cell_type": "code",
      "source": [
        "a = 5 + 3"
      ],
      "metadata": {
        "id": "NyYi1zF-4dI8"
      },
      "execution_count": null,
      "outputs": []
    },
    {
      "cell_type": "markdown",
      "source": [
        "  >8"
      ],
      "metadata": {
        "id": "Zgz8MSg44rmc"
      }
    },
    {
      "cell_type": "markdown",
      "source": [
        "***Subraction***"
      ],
      "metadata": {
        "id": "ZBECzsDS4huM"
      }
    },
    {
      "cell_type": "code",
      "source": [
        "a = 5 - 3"
      ],
      "metadata": {
        "id": "RGVFf4iC4lgs"
      },
      "execution_count": null,
      "outputs": []
    },
    {
      "cell_type": "markdown",
      "source": [
        ">2"
      ],
      "metadata": {
        "id": "Bp9P7sqc47GL"
      }
    },
    {
      "cell_type": "markdown",
      "source": [
        "***Multiplication***"
      ],
      "metadata": {
        "id": "XXMh4FD64kOM"
      }
    },
    {
      "cell_type": "code",
      "source": [
        "a = 5 * 3"
      ],
      "metadata": {
        "id": "YBsNhBSN4oe8"
      },
      "execution_count": null,
      "outputs": []
    },
    {
      "cell_type": "markdown",
      "source": [
        ">15"
      ],
      "metadata": {
        "id": "MPJ-qQ6548ej"
      }
    },
    {
      "cell_type": "markdown",
      "source": [
        "***Exponent***"
      ],
      "metadata": {
        "id": "L0bVTtDW48-c"
      }
    },
    {
      "cell_type": "code",
      "source": [
        "a = 5 ** 3"
      ],
      "metadata": {
        "id": "EzpszjQ64-QL"
      },
      "execution_count": null,
      "outputs": []
    },
    {
      "cell_type": "markdown",
      "source": [
        ">125"
      ],
      "metadata": {
        "id": "gZvrLVu25BDM"
      }
    },
    {
      "cell_type": "markdown",
      "source": [
        "***Division***"
      ],
      "metadata": {
        "id": "hc-MoELz5CHv"
      }
    },
    {
      "cell_type": "code",
      "source": [
        "a = 5 / 3"
      ],
      "metadata": {
        "id": "_VTTq0tT5Dns"
      },
      "execution_count": null,
      "outputs": []
    },
    {
      "cell_type": "markdown",
      "source": [
        ">1.66666667"
      ],
      "metadata": {
        "id": "l-eKBtX75GA9"
      }
    },
    {
      "cell_type": "code",
      "source": [
        "a = 5 % 3"
      ],
      "metadata": {
        "id": "RPwN_2lb5Jt0"
      },
      "execution_count": null,
      "outputs": []
    },
    {
      "cell_type": "markdown",
      "source": [
        ">2"
      ],
      "metadata": {
        "id": "V8pQMmK-5OhL"
      }
    },
    {
      "cell_type": "code",
      "source": [
        "a = 5 // 3"
      ],
      "metadata": {
        "id": "wwUuhE9j5Psc"
      },
      "execution_count": null,
      "outputs": []
    },
    {
      "cell_type": "markdown",
      "source": [
        ">1"
      ],
      "metadata": {
        "id": "DNFfnGHy5Tnj"
      }
    },
    {
      "cell_type": "markdown",
      "source": [
        "***Increment/Decrement***"
      ],
      "metadata": {
        "id": "qB2FMPgx53UL"
      }
    },
    {
      "cell_type": "code",
      "source": [
        "a = 5\n",
        "a += 1"
      ],
      "metadata": {
        "id": "E3TUBPQd57c0"
      },
      "execution_count": null,
      "outputs": []
    },
    {
      "cell_type": "markdown",
      "source": [
        ">6"
      ],
      "metadata": {
        "id": "7_XtMov55-YN"
      }
    },
    {
      "cell_type": "markdown",
      "source": [
        "***Decrement***"
      ],
      "metadata": {
        "id": "7r2eB1Qo5_RE"
      }
    },
    {
      "cell_type": "code",
      "source": [
        "a = 5\n",
        "a -= 1"
      ],
      "metadata": {
        "id": "oY2yvpfx6A2k"
      },
      "execution_count": null,
      "outputs": []
    },
    {
      "cell_type": "markdown",
      "source": [
        ">4"
      ],
      "metadata": {
        "id": "-zeBa9tH6C3s"
      }
    },
    {
      "cell_type": "markdown",
      "source": [
        "***String*** ***Concatenation***"
      ],
      "metadata": {
        "id": "KoqcJ6GG6EHC"
      }
    },
    {
      "cell_type": "code",
      "source": [
        "a = 'Hello' + \"World!\""
      ],
      "metadata": {
        "id": "-lKdhpUV6F_E"
      },
      "execution_count": null,
      "outputs": []
    },
    {
      "cell_type": "markdown",
      "source": [
        ">Hello World!"
      ],
      "metadata": {
        "id": "RnO0GQxw6MJ6"
      }
    },
    {
      "cell_type": "markdown",
      "source": [
        "***Complex*** ***Expressions***"
      ],
      "metadata": {
        "id": "ONSprMK06OSD"
      }
    },
    {
      "cell_type": "code",
      "source": [
        "a = 3 + 5 -6 * 2 /4"
      ],
      "metadata": {
        "id": "K_eaJ1vw6P1z"
      },
      "execution_count": null,
      "outputs": []
    },
    {
      "cell_type": "markdown",
      "source": [
        ">5.0"
      ],
      "metadata": {
        "id": "TSh9kL796VRM"
      }
    },
    {
      "cell_type": "markdown",
      "source": [
        "# **3. Control structures and Data Structures**"
      ],
      "metadata": {
        "id": "TIywVzww65-i"
      }
    },
    {
      "cell_type": "markdown",
      "source": [
        "***Boolean*** ***Conditions***"
      ],
      "metadata": {
        "id": "-TSAFTED7agK"
      }
    },
    {
      "cell_type": "code",
      "source": [],
      "metadata": {
        "id": "rafAnfT58-CP"
      },
      "execution_count": null,
      "outputs": []
    },
    {
      "cell_type": "code",
      "source": [],
      "metadata": {
        "id": "1Qh4RO3W89Gv"
      },
      "execution_count": null,
      "outputs": []
    },
    {
      "cell_type": "code",
      "source": [
        "x = True\n",
        "\n",
        "if x:\n",
        "  print (\"var x is True\")\n",
        "else:\n",
        "  print(\"var x is False\")"
      ],
      "metadata": {
        "colab": {
          "base_uri": "https://localhost:8080/"
        },
        "collapsed": true,
        "id": "7RjMcoXg7d3q",
        "outputId": "927c7366-7d3b-4b69-f43a-04e82ad6ac0a"
      },
      "execution_count": null,
      "outputs": [
        {
          "output_type": "stream",
          "name": "stdout",
          "text": [
            "var x is True\n"
          ]
        }
      ]
    },
    {
      "cell_type": "markdown",
      "source": [
        "> var x is True"
      ],
      "metadata": {
        "id": "IuCueqgZ7zsD"
      }
    },
    {
      "cell_type": "markdown",
      "source": [
        "***String Conditions***"
      ],
      "metadata": {
        "id": "7zimQ4vF72hb"
      }
    },
    {
      "cell_type": "code",
      "source": [
        "x = \" Hello World!\"\n",
        "\n",
        "if x == \"Hello World!\":\n",
        "  print (\"var x is Hello World!\")\n",
        "else:\n",
        "  print(\"var x is not Hello World!\")"
      ],
      "metadata": {
        "id": "EnEft-Gh735b"
      },
      "execution_count": null,
      "outputs": []
    },
    {
      "cell_type": "markdown",
      "source": [
        ">var x is Hello World!"
      ],
      "metadata": {
        "id": "OczU2KLI8Kgr"
      }
    },
    {
      "cell_type": "markdown",
      "source": [
        "***Numerical Conditions***"
      ],
      "metadata": {
        "id": "eRur4al-8MpC"
      }
    },
    {
      "cell_type": "code",
      "source": [
        "x = 10\n",
        "\n",
        "if x == '10':\n",
        "  print(\"var x is a string\")\n",
        "elif x == 10:\n",
        "  print (\"var x is an integer\")\n",
        "else:\n",
        "  print(\"var x is none of the above\")"
      ],
      "metadata": {
        "colab": {
          "base_uri": "https://localhost:8080/"
        },
        "collapsed": true,
        "id": "C88ARyI38RV6",
        "outputId": "0de8231c-2746-457e-8daa-37203574e7ab"
      },
      "execution_count": null,
      "outputs": [
        {
          "output_type": "stream",
          "name": "stdout",
          "text": [
            "var x is an integer\n"
          ]
        }
      ]
    },
    {
      "cell_type": "markdown",
      "source": [
        ">var x is an integer"
      ],
      "metadata": {
        "id": "G112PBZ-8tsa"
      }
    },
    {
      "cell_type": "markdown",
      "source": [
        "# **4. Loops**"
      ],
      "metadata": {
        "id": "W0tHLape9KoH"
      }
    },
    {
      "cell_type": "markdown",
      "source": [
        "***For Loops***"
      ],
      "metadata": {
        "id": "MBy4Wdyc9TAH"
      }
    },
    {
      "cell_type": "code",
      "source": [
        "for var in range (0,5,2):\n",
        "  print (var)"
      ],
      "metadata": {
        "colab": {
          "base_uri": "https://localhost:8080/"
        },
        "id": "2HXmf-Ru9T_j",
        "outputId": "40506401-74d4-4a98-be1a-66163a42fdf5"
      },
      "execution_count": null,
      "outputs": [
        {
          "output_type": "stream",
          "name": "stdout",
          "text": [
            "0\n",
            "2\n",
            "4\n"
          ]
        }
      ]
    },
    {
      "cell_type": "markdown",
      "source": [
        "***While Loops***"
      ],
      "metadata": {
        "id": "itM7k39L9Z2n"
      }
    },
    {
      "cell_type": "code",
      "source": [
        "var = 0\n",
        "while var < 5:\n",
        "  print (var)\n",
        "  var += 2"
      ],
      "metadata": {
        "colab": {
          "base_uri": "https://localhost:8080/"
        },
        "id": "wBc7SPDA9cfJ",
        "outputId": "6e89168d-e84f-41ce-a84c-2f1dbf267afa"
      },
      "execution_count": null,
      "outputs": [
        {
          "output_type": "stream",
          "name": "stdout",
          "text": [
            "0\n",
            "2\n",
            "4\n"
          ]
        }
      ]
    },
    {
      "cell_type": "markdown",
      "source": [
        "***Nested loops***"
      ],
      "metadata": {
        "id": "l-Nyyk-B9f4o"
      }
    },
    {
      "cell_type": "code",
      "source": [
        "x = 0\n",
        "while x < 5:\n",
        "  for y in range (0, x):\n",
        "    print (y, end='')\n",
        "  x+=1\n",
        "  print()"
      ],
      "metadata": {
        "colab": {
          "base_uri": "https://localhost:8080/"
        },
        "id": "eunaBbfx9h-Y",
        "outputId": "cdb46818-29d0-4699-9e72-941d90eb62e6"
      },
      "execution_count": null,
      "outputs": [
        {
          "output_type": "stream",
          "name": "stdout",
          "text": [
            "\n",
            "0\n",
            "01\n",
            "012\n",
            "0123\n"
          ]
        }
      ]
    },
    {
      "cell_type": "markdown",
      "source": [
        "**NOTE:**  *The loop declaration ends with a colon (:) while its contents inside are indented*"
      ],
      "metadata": {
        "id": "VElNjzU89x0v"
      }
    },
    {
      "cell_type": "markdown",
      "source": [
        "# **5. List**"
      ],
      "metadata": {
        "id": "DmNP4_IL_dSu"
      }
    },
    {
      "cell_type": "markdown",
      "source": [
        "Can contain a number of values comprise of different data types"
      ],
      "metadata": {
        "id": "oW-YF74a_hfY"
      }
    },
    {
      "cell_type": "code",
      "source": [
        "pi = 3.14159\n",
        "varList = [1, 2, 'A', 'B', 'Hello!',pi]\n",
        "print(varList[0])"
      ],
      "metadata": {
        "colab": {
          "base_uri": "https://localhost:8080/"
        },
        "id": "t8ArNkVi_zCa",
        "outputId": "110bc966-1334-488d-b960-7dd1e98fdea7"
      },
      "execution_count": null,
      "outputs": [
        {
          "output_type": "stream",
          "name": "stdout",
          "text": [
            "1\n"
          ]
        }
      ]
    },
    {
      "cell_type": "code",
      "source": [
        "print(varList[4])"
      ],
      "metadata": {
        "colab": {
          "base_uri": "https://localhost:8080/"
        },
        "id": "gSgB_6_VAHUh",
        "outputId": "1bf8ca3b-d4d4-4df2-ef49-3746a23999f8"
      },
      "execution_count": null,
      "outputs": [
        {
          "output_type": "stream",
          "name": "stdout",
          "text": [
            "Hello!\n"
          ]
        }
      ]
    },
    {
      "cell_type": "code",
      "source": [
        "varList.append('World!')\n",
        "print(varList[6])"
      ],
      "metadata": {
        "colab": {
          "base_uri": "https://localhost:8080/"
        },
        "id": "_vHVrPoNAcae",
        "outputId": "90156cbb-9027-4266-e731-e2553d38508d"
      },
      "execution_count": null,
      "outputs": [
        {
          "output_type": "stream",
          "name": "stdout",
          "text": [
            "World!\n"
          ]
        }
      ]
    },
    {
      "cell_type": "code",
      "source": [
        "len(varList)"
      ],
      "metadata": {
        "colab": {
          "base_uri": "https://localhost:8080/"
        },
        "id": "sSDiZVH4AjYl",
        "outputId": "27e73f6f-d8dd-4cd7-acc6-5f360c8ae417"
      },
      "execution_count": null,
      "outputs": [
        {
          "output_type": "execute_result",
          "data": {
            "text/plain": [
              "7"
            ]
          },
          "metadata": {},
          "execution_count": 34
        }
      ]
    },
    {
      "cell_type": "code",
      "source": [
        "print(varList[5])\n"
      ],
      "metadata": {
        "colab": {
          "base_uri": "https://localhost:8080/"
        },
        "id": "_uMROqqeA_84",
        "outputId": "1a058c86-f8aa-4d6c-c8fa-3876485e3f59"
      },
      "execution_count": null,
      "outputs": [
        {
          "output_type": "stream",
          "name": "stdout",
          "text": [
            "3.14159\n"
          ]
        }
      ]
    },
    {
      "cell_type": "code",
      "source": [
        "varList.remove(pi)\n",
        "print(varList[5])"
      ],
      "metadata": {
        "colab": {
          "base_uri": "https://localhost:8080/"
        },
        "id": "cwAbxYpTBCgF",
        "outputId": "ffb8ddf8-f301-40d6-cbf9-6ec106043bfe"
      },
      "execution_count": null,
      "outputs": [
        {
          "output_type": "stream",
          "name": "stdout",
          "text": [
            "World!\n"
          ]
        }
      ]
    },
    {
      "cell_type": "markdown",
      "source": [
        "NOTE: Lists starts with an index of 0. The remove() method erases the first value that matches the perimeter"
      ],
      "metadata": {
        "id": "Pv5UKilOBGTQ"
      }
    },
    {
      "cell_type": "markdown",
      "source": [
        "# **6. Dictionaries**"
      ],
      "metadata": {
        "id": "vmtuux1KBUqt"
      }
    },
    {
      "cell_type": "code",
      "source": [
        "var = \"Hello World!\"\n",
        "varDict = {'first':123, 2 : 'abc','3':var,'4':['lista','listb']}\n",
        "print(varDict['first'])"
      ],
      "metadata": {
        "colab": {
          "base_uri": "https://localhost:8080/"
        },
        "id": "0q0JKNlRBbIK",
        "outputId": "1572b387-6961-4421-e76e-f4e619cade4a"
      },
      "execution_count": null,
      "outputs": [
        {
          "output_type": "stream",
          "name": "stdout",
          "text": [
            "123\n"
          ]
        }
      ]
    },
    {
      "cell_type": "code",
      "source": [
        "print(varDict[2])"
      ],
      "metadata": {
        "colab": {
          "base_uri": "https://localhost:8080/"
        },
        "id": "73bD7sicBwo8",
        "outputId": "5cd717f2-1427-4c2d-96cd-af0bf06a450c"
      },
      "execution_count": null,
      "outputs": [
        {
          "output_type": "stream",
          "name": "stdout",
          "text": [
            "abc\n"
          ]
        }
      ]
    },
    {
      "cell_type": "code",
      "source": [
        "print(varDict['3'])\n"
      ],
      "metadata": {
        "colab": {
          "base_uri": "https://localhost:8080/"
        },
        "id": "hy0vHrAEB1pV",
        "outputId": "3d13d4c6-30b4-419d-b435-dd934efe34d2"
      },
      "execution_count": null,
      "outputs": [
        {
          "output_type": "stream",
          "name": "stdout",
          "text": [
            "Hello World!\n"
          ]
        }
      ]
    },
    {
      "cell_type": "code",
      "source": [
        "print(varDict['4'])\n"
      ],
      "metadata": {
        "colab": {
          "base_uri": "https://localhost:8080/"
        },
        "id": "yPgjhtCbCPml",
        "outputId": "ecade89e-62d8-4eb7-c0fa-c4ea60f728b6"
      },
      "execution_count": null,
      "outputs": [
        {
          "output_type": "stream",
          "name": "stdout",
          "text": [
            "['lista', 'listb']\n"
          ]
        }
      ]
    },
    {
      "cell_type": "code",
      "source": [
        "print(varDict['4'][1])"
      ],
      "metadata": {
        "colab": {
          "base_uri": "https://localhost:8080/"
        },
        "id": "cXtgv4cSCi58",
        "outputId": "798565f2-d653-4944-826e-5532fea4b6a2"
      },
      "execution_count": null,
      "outputs": [
        {
          "output_type": "stream",
          "name": "stdout",
          "text": [
            "listb\n"
          ]
        }
      ]
    },
    {
      "cell_type": "code",
      "source": [
        "len(varDict)\n"
      ],
      "metadata": {
        "colab": {
          "base_uri": "https://localhost:8080/"
        },
        "id": "Av3v00HxCl2s",
        "outputId": "0abd5a3a-8e4a-485f-ebfa-e05dad7bf3be"
      },
      "execution_count": null,
      "outputs": [
        {
          "output_type": "execute_result",
          "data": {
            "text/plain": [
              "4"
            ]
          },
          "metadata": {},
          "execution_count": 58
        }
      ]
    },
    {
      "cell_type": "markdown",
      "source": [
        "# **7.Generators and Comprehension**"
      ],
      "metadata": {
        "id": "LxQfnjYtCpRH"
      }
    },
    {
      "cell_type": "markdown",
      "source": [
        "***Generators can be used to build list in the memory as objects***\n"
      ],
      "metadata": {
        "id": "wAl6bEsREEQA"
      }
    },
    {
      "cell_type": "code",
      "source": [
        "def gen_num_up_to(n):\n",
        "  num = 0\n",
        "  while num < n:\n",
        "    yield num\n",
        "    num += 1"
      ],
      "metadata": {
        "id": "q42evjreENu3"
      },
      "execution_count": null,
      "outputs": []
    },
    {
      "cell_type": "code",
      "source": [
        "gen_num_up_to(5)"
      ],
      "metadata": {
        "colab": {
          "base_uri": "https://localhost:8080/"
        },
        "id": "UNdeC1IiER-L",
        "outputId": "f55ec52c-bbfc-49c9-f62f-35b4ca14f53b"
      },
      "execution_count": null,
      "outputs": [
        {
          "output_type": "execute_result",
          "data": {
            "text/plain": [
              "<generator object gen_num_up_to at 0x7ab06e973d80>"
            ]
          },
          "metadata": {},
          "execution_count": 60
        }
      ]
    },
    {
      "cell_type": "markdown",
      "source": [
        "**NOTE**: *This creates an object*"
      ],
      "metadata": {
        "id": "iFnGJlrTEWf7"
      }
    },
    {
      "cell_type": "code",
      "source": [
        "varList = gen_num_up_to(5)\n",
        "print([var for var in varList])"
      ],
      "metadata": {
        "colab": {
          "base_uri": "https://localhost:8080/"
        },
        "id": "TxhouPXDEZx7",
        "outputId": "5aa915c0-fb76-47d7-ed19-cdc5026dc306"
      },
      "execution_count": null,
      "outputs": [
        {
          "output_type": "stream",
          "name": "stdout",
          "text": [
            "[0, 1, 2, 3, 4]\n"
          ]
        }
      ]
    },
    {
      "cell_type": "code",
      "source": [
        "def gen_num_up_to(n):\n",
        "  num = 0\n",
        "  while num < n:\n",
        "    yield num\n",
        "    num += 2\n",
        "\n",
        "varList = gen_num_up_to(5)\n",
        "print([var for var in varList])"
      ],
      "metadata": {
        "colab": {
          "base_uri": "https://localhost:8080/"
        },
        "id": "bCcNfuOZEcDj",
        "outputId": "183c3ad1-fc18-4603-f843-c46deb1736c9"
      },
      "execution_count": null,
      "outputs": [
        {
          "output_type": "stream",
          "name": "stdout",
          "text": [
            "[0, 2, 4]\n"
          ]
        }
      ]
    },
    {
      "cell_type": "code",
      "source": [
        "varList = range(0, 5 ,2)\n",
        "print([var for var in varList])"
      ],
      "metadata": {
        "colab": {
          "base_uri": "https://localhost:8080/"
        },
        "id": "ZHoYQXZ0EybT",
        "outputId": "a901d751-8cd9-4fa4-cebd-cc5e6cdb1148"
      },
      "execution_count": null,
      "outputs": [
        {
          "output_type": "stream",
          "name": "stdout",
          "text": [
            "[0, 2, 4]\n"
          ]
        }
      ]
    },
    {
      "cell_type": "markdown",
      "source": [
        "**NOTE:** *Python's built in range function range([start], stop, [step]) *"
      ],
      "metadata": {
        "id": "mupeoSI1E5t3"
      }
    },
    {
      "cell_type": "markdown",
      "source": [
        "# **8.Slicing**"
      ],
      "metadata": {
        "id": "d1DFKNV1FQlu"
      }
    },
    {
      "cell_type": "code",
      "source": [
        "varList = [ 1, 2, 3, 4, 5, 6, 7, 8, 9, 10]\n",
        "print(varList[:5])"
      ],
      "metadata": {
        "colab": {
          "base_uri": "https://localhost:8080/"
        },
        "id": "BG5NQWSdGowR",
        "outputId": "3f13bb53-7c33-4901-894e-1a868b837c90"
      },
      "execution_count": null,
      "outputs": [
        {
          "output_type": "stream",
          "name": "stdout",
          "text": [
            "[1, 2, 3, 4, 5]\n"
          ]
        }
      ]
    },
    {
      "cell_type": "code",
      "source": [
        "print(varList[5:])"
      ],
      "metadata": {
        "colab": {
          "base_uri": "https://localhost:8080/"
        },
        "id": "FmX9422FGyTp",
        "outputId": "f3b6cfd0-84f8-497e-c194-7e6bb6ccddba"
      },
      "execution_count": null,
      "outputs": [
        {
          "output_type": "stream",
          "name": "stdout",
          "text": [
            "[6, 7, 8, 9, 10]\n"
          ]
        }
      ]
    },
    {
      "cell_type": "code",
      "source": [
        "print(varList[:-2])\n"
      ],
      "metadata": {
        "colab": {
          "base_uri": "https://localhost:8080/"
        },
        "id": "WrGtarphG1ep",
        "outputId": "5ceb3167-1c9d-4a40-d2c2-06243e00cbbd"
      },
      "execution_count": null,
      "outputs": [
        {
          "output_type": "stream",
          "name": "stdout",
          "text": [
            "[1, 2, 3, 4, 5, 6, 7, 8]\n"
          ]
        }
      ]
    },
    {
      "cell_type": "code",
      "source": [
        "print(varList[-2:])"
      ],
      "metadata": {
        "colab": {
          "base_uri": "https://localhost:8080/"
        },
        "id": "h8pk8ToMG6KJ",
        "outputId": "3b727641-366d-4830-caa8-21346621b263"
      },
      "execution_count": null,
      "outputs": [
        {
          "output_type": "stream",
          "name": "stdout",
          "text": [
            "[9, 10]\n"
          ]
        }
      ]
    },
    {
      "cell_type": "code",
      "source": [
        "print(varList[2:-2])"
      ],
      "metadata": {
        "colab": {
          "base_uri": "https://localhost:8080/"
        },
        "id": "pWv3GJblHFKZ",
        "outputId": "673aea75-8506-40cf-8356-1f8e23791e30"
      },
      "execution_count": null,
      "outputs": [
        {
          "output_type": "stream",
          "name": "stdout",
          "text": [
            "[3, 4, 5, 6, 7, 8]\n"
          ]
        }
      ]
    },
    {
      "cell_type": "code",
      "source": [
        "print(varList[2:8:2])"
      ],
      "metadata": {
        "colab": {
          "base_uri": "https://localhost:8080/"
        },
        "id": "gOPpUVuZHJzg",
        "outputId": "3adf5dbc-4646-484f-9192-163fd1d9cae3"
      },
      "execution_count": null,
      "outputs": [
        {
          "output_type": "stream",
          "name": "stdout",
          "text": [
            "[3, 5, 7]\n"
          ]
        }
      ]
    },
    {
      "cell_type": "markdown",
      "source": [
        "**NOTE:** ***list (start :)***"
      ],
      "metadata": {
        "id": "RhASb5l_HMzo"
      }
    },
    {
      "cell_type": "markdown",
      "source": [
        "***list (:end***)\n"
      ],
      "metadata": {
        "id": "QFgurIJeHi1d"
      }
    },
    {
      "cell_type": "markdown",
      "source": [
        "***list (start:end)***"
      ],
      "metadata": {
        "id": "db2EiTbJHoBQ"
      }
    },
    {
      "cell_type": "markdown",
      "source": [
        "***list (start:end:step)***"
      ],
      "metadata": {
        "id": "DUaGNrCHHoXi"
      }
    },
    {
      "cell_type": "markdown",
      "source": [
        "# **9.Functions**"
      ],
      "metadata": {
        "id": "uss-CQZiIOqU"
      }
    },
    {
      "cell_type": "markdown",
      "source": [
        "Python functions use the followung notation:"
      ],
      "metadata": {
        "id": "wBwtUFssIUtQ"
      }
    },
    {
      "cell_type": "markdown",
      "source": [
        "**def function name:**\n",
        "\n",
        "  ***commands***"
      ],
      "metadata": {
        "id": "z_-G0ytXImzH"
      }
    },
    {
      "cell_type": "code",
      "source": [
        "def remainder(n, m):\n",
        "  while True:\n",
        "    if n - m < 0:\n",
        "      return n\n",
        "    else:\n",
        "      n = n - m\n",
        "\n",
        "remainder(10,4)"
      ],
      "metadata": {
        "colab": {
          "base_uri": "https://localhost:8080/"
        },
        "id": "ZtuUKEEKIruH",
        "outputId": "9a3c7ac1-9a76-40e4-f9ab-e9268ff65dc4"
      },
      "execution_count": null,
      "outputs": [
        {
          "output_type": "execute_result",
          "data": {
            "text/plain": [
              "2"
            ]
          },
          "metadata": {},
          "execution_count": 80
        }
      ]
    },
    {
      "cell_type": "markdown",
      "source": [
        "NOTE: Functions are defined with the keyword **def** before the **function name**. Similar to loops, the function definition ends with a colon (:) while its contents inside are indented"
      ],
      "metadata": {
        "id": "GRBdZEXKJBG_"
      }
    },
    {
      "cell_type": "markdown",
      "source": [
        "# **Challenge 2**"
      ],
      "metadata": {
        "id": "F5bvzC47nz6z"
      }
    },
    {
      "cell_type": "markdown",
      "source": [
        "Create a function ***coin flip()*** that simulates coin flips repeated times, with 0 representing tail and 1 representing heads. Make the function a generator with the parameter as the number of coin flips.\n",
        "\n",
        "Use the ***numpy*** library as np and the function of ***np.random.randint()*** in order to simulate a coin flip. After defining the function, return the result as a List using list Comprehension discussed previously."
      ],
      "metadata": {
        "id": "nvxs4R0un7bo"
      }
    },
    {
      "cell_type": "code",
      "source": [
        "import numpy as np\n",
        "\n",
        "def coin_flip(times):\n",
        "  flips = []  # makes a list that stores the flips\n",
        "  for _ in range(times):\n",
        "    flip = np.random.randint(0, 2) #to randomize the flips\n",
        "    if flip == 0:\n",
        "      flips.append(\"0 : Tails\") #append to store them in the made list\n",
        "    elif flip == 1:\n",
        "      flips.append(\"1 : Heads\")\n",
        "  return flips\n",
        "\n",
        "\n",
        "flipNum = int(input(\"How many coin flips do you want to do? \")) #user input\n",
        "\n",
        "\n",
        "flip_results = coin_flip(flipNum) # Call the function and store the results in a list\n",
        "\n",
        "print(flip_results) #output"
      ],
      "metadata": {
        "id": "Aa42NLsgoQKN",
        "outputId": "56160888-c566-4870-8625-9e051f53d7cd",
        "colab": {
          "base_uri": "https://localhost:8080/"
        }
      },
      "execution_count": null,
      "outputs": [
        {
          "output_type": "stream",
          "name": "stdout",
          "text": [
            "How many coin flips do you want to do? 7\n",
            "['0 : Tails', '1 : Heads', '0 : Tails', '0 : Tails', '0 : Tails', '0 : Tails', '1 : Heads']\n"
          ]
        }
      ]
    }
  ]
}