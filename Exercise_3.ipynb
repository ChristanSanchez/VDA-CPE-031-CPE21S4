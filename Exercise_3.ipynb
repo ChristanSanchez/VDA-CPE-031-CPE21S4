{
  "nbformat": 4,
  "nbformat_minor": 0,
  "metadata": {
    "colab": {
      "provenance": [],
      "authorship_tag": "ABX9TyPhSmYCF5M/bw1kRxD8eG7N",
      "include_colab_link": true
    },
    "kernelspec": {
      "name": "python3",
      "display_name": "Python 3"
    },
    "language_info": {
      "name": "python"
    }
  },
  "cells": [
    {
      "cell_type": "markdown",
      "metadata": {
        "id": "view-in-github",
        "colab_type": "text"
      },
      "source": [
        "<a href=\"https://colab.research.google.com/github/ChristanSanchez/VDA-CPE-031-CPE21S4/blob/main/Exercise_3.ipynb\" target=\"_parent\"><img src=\"https://colab.research.google.com/assets/colab-badge.svg\" alt=\"Open In Colab\"/></a>"
      ]
    },
    {
      "cell_type": "markdown",
      "source": [
        "# EXERCISE 3"
      ],
      "metadata": {
        "id": "m2mGXpCB2USw"
      }
    },
    {
      "cell_type": "markdown",
      "source": [
        "# Download Panda library"
      ],
      "metadata": {
        "id": "UE6C3N-92Jph"
      }
    },
    {
      "cell_type": "code",
      "source": [
        "!pip install pandas"
      ],
      "metadata": {
        "colab": {
          "base_uri": "https://localhost:8080/"
        },
        "collapsed": true,
        "id": "6KSWigHIyBe6",
        "outputId": "4c133cdb-c934-432b-ab12-2a9a3d1104fa"
      },
      "execution_count": 38,
      "outputs": [
        {
          "output_type": "stream",
          "name": "stdout",
          "text": [
            "Requirement already satisfied: pandas in /usr/local/lib/python3.10/dist-packages (2.1.4)\n",
            "Requirement already satisfied: numpy<2,>=1.22.4 in /usr/local/lib/python3.10/dist-packages (from pandas) (1.26.4)\n",
            "Requirement already satisfied: python-dateutil>=2.8.2 in /usr/local/lib/python3.10/dist-packages (from pandas) (2.8.2)\n",
            "Requirement already satisfied: pytz>=2020.1 in /usr/local/lib/python3.10/dist-packages (from pandas) (2024.1)\n",
            "Requirement already satisfied: tzdata>=2022.1 in /usr/local/lib/python3.10/dist-packages (from pandas) (2024.1)\n",
            "Requirement already satisfied: six>=1.5 in /usr/local/lib/python3.10/dist-packages (from python-dateutil>=2.8.2->pandas) (1.16.0)\n",
            "Traceback (most recent call last):\n",
            "  File \"/usr/local/lib/python3.10/dist-packages/pip/_vendor/pkg_resources/__init__.py\", line 3070, in _dep_map\n",
            "    return self.__dep_map\n",
            "  File \"/usr/local/lib/python3.10/dist-packages/pip/_vendor/pkg_resources/__init__.py\", line 2863, in __getattr__\n",
            "    raise AttributeError(attr)\n",
            "AttributeError: _DistInfoDistribution__dep_map\n",
            "\n",
            "During handling of the above exception, another exception occurred:\n",
            "\n",
            "Traceback (most recent call last):\n",
            "  File \"/usr/lib/python3.10/re.py\", line 293, in _compile\n",
            "    return _cache[type(pattern), pattern, flags]\n",
            "KeyError: (<class 're.Pattern'>, re.compile(\"\\n        (?P<operator>(~=|==|!=|<=|>=|<|>|===))\\n        \\n        (?P<version>\\n            (?:\\n                # The identity operators allow for an escape hatch that will\\n                # do a, re.IGNORECASE|re.VERBOSE), 0)\n",
            "\n",
            "During handling of the above exception, another exception occurred:\n",
            "\n",
            "Traceback (most recent call last):\n",
            "  File \"/usr/local/lib/python3.10/dist-packages/pip/_internal/cli/base_command.py\", line 179, in exc_logging_wrapper\n",
            "    status = run_func(*args)\n",
            "  File \"/usr/local/lib/python3.10/dist-packages/pip/_internal/cli/req_command.py\", line 67, in wrapper\n",
            "    return func(self, options, args)\n",
            "  File \"/usr/local/lib/python3.10/dist-packages/pip/_internal/commands/install.py\", line 447, in run\n",
            "    conflicts = self._determine_conflicts(to_install)\n",
            "  File \"/usr/local/lib/python3.10/dist-packages/pip/_internal/commands/install.py\", line 578, in _determine_conflicts\n",
            "    return check_install_conflicts(to_install)\n",
            "  File \"/usr/local/lib/python3.10/dist-packages/pip/_internal/operations/check.py\", line 101, in check_install_conflicts\n",
            "    package_set, _ = create_package_set_from_installed()\n",
            "  File \"/usr/local/lib/python3.10/dist-packages/pip/_internal/operations/check.py\", line 42, in create_package_set_from_installed\n",
            "    dependencies = list(dist.iter_dependencies())\n",
            "  File \"/usr/local/lib/python3.10/dist-packages/pip/_internal/metadata/pkg_resources.py\", line 247, in iter_dependencies\n",
            "    return self._dist.requires(extras)\n",
            "  File \"/usr/local/lib/python3.10/dist-packages/pip/_vendor/pkg_resources/__init__.py\", line 2786, in requires\n",
            "    dm = self._dep_map\n",
            "  File \"/usr/local/lib/python3.10/dist-packages/pip/_vendor/pkg_resources/__init__.py\", line 3072, in _dep_map\n",
            "    self.__dep_map = self._compute_dependencies()\n",
            "  File \"/usr/local/lib/python3.10/dist-packages/pip/_vendor/pkg_resources/__init__.py\", line 3082, in _compute_dependencies\n",
            "    reqs.extend(parse_requirements(req))\n",
            "  File \"/usr/local/lib/python3.10/dist-packages/pip/_vendor/pkg_resources/__init__.py\", line 3135, in __init__\n",
            "    super().__init__(requirement_string)\n",
            "  File \"/usr/local/lib/python3.10/dist-packages/pip/_vendor/packaging/requirements.py\", line 36, in __init__\n",
            "    parsed = _parse_requirement(requirement_string)\n",
            "  File \"/usr/local/lib/python3.10/dist-packages/pip/_vendor/packaging/_parser.py\", line 62, in parse_requirement\n",
            "    return _parse_requirement(Tokenizer(source, rules=DEFAULT_RULES))\n",
            "  File \"/usr/local/lib/python3.10/dist-packages/pip/_vendor/packaging/_tokenizer.py\", line 104, in __init__\n",
            "    self.rules: dict[str, re.Pattern[str]] = {\n",
            "  File \"/usr/local/lib/python3.10/dist-packages/pip/_vendor/packaging/_tokenizer.py\", line 105, in <dictcomp>\n",
            "    name: re.compile(pattern) for name, pattern in rules.items()\n",
            "  File \"/usr/lib/python3.10/re.py\", line 251, in compile\n",
            "    return _compile(pattern, flags)\n",
            "  File \"/usr/lib/python3.10/re.py\", line 293, in _compile\n",
            "    return _cache[type(pattern), pattern, flags]\n",
            "KeyboardInterrupt\n",
            "\n",
            "During handling of the above exception, another exception occurred:\n",
            "\n",
            "Traceback (most recent call last):\n",
            "  File \"/usr/lib/python3.10/logging/__init__.py\", line 1732, in isEnabledFor\n",
            "    return self._cache[level]\n",
            "KeyError: 50\n",
            "\n",
            "During handling of the above exception, another exception occurred:\n",
            "\n",
            "Traceback (most recent call last):\n",
            "  File \"/usr/local/bin/pip3\", line 8, in <module>\n",
            "    sys.exit(main())\n",
            "  File \"/usr/local/lib/python3.10/dist-packages/pip/_internal/cli/main.py\", line 80, in main\n",
            "    return command.main(cmd_args)\n",
            "  File \"/usr/local/lib/python3.10/dist-packages/pip/_internal/cli/base_command.py\", line 100, in main\n",
            "    return self._main(args)\n",
            "  File \"/usr/local/lib/python3.10/dist-packages/pip/_internal/cli/base_command.py\", line 232, in _main\n",
            "    return run(options, args)\n",
            "  File \"/usr/local/lib/python3.10/dist-packages/pip/_internal/cli/base_command.py\", line 215, in exc_logging_wrapper\n",
            "    logger.critical(\"Operation cancelled by user\")\n",
            "  File \"/usr/lib/python3.10/logging/__init__.py\", line 1523, in critical\n",
            "    if self.isEnabledFor(CRITICAL):\n",
            "  File \"/usr/lib/python3.10/logging/__init__.py\", line 1736, in isEnabledFor\n",
            "    if self.manager.disable >= level:\n",
            "  File \"/usr/lib/python3.10/logging/__init__.py\", line 1307, in disable\n",
            "    @property\n",
            "KeyboardInterrupt\n",
            "^C\n"
          ]
        }
      ]
    },
    {
      "cell_type": "markdown",
      "source": [
        "# Load Files into the Dataframe"
      ],
      "metadata": {
        "id": "opuOFB8Q0iyA"
      }
    },
    {
      "cell_type": "code",
      "source": [
        "from google.colab import files\n",
        "uploaded = files.upload()"
      ],
      "metadata": {
        "colab": {
          "base_uri": "https://localhost:8080/",
          "height": 74
        },
        "id": "DOxZlXv9zPxp",
        "outputId": "8bdaeae8-c731-42d9-8d71-505990f26ce1"
      },
      "execution_count": 24,
      "outputs": [
        {
          "output_type": "display_data",
          "data": {
            "text/plain": [
              "<IPython.core.display.HTML object>"
            ],
            "text/html": [
              "\n",
              "     <input type=\"file\" id=\"files-708891da-ff82-4c35-9972-e0ecb1560c92\" name=\"files[]\" multiple disabled\n",
              "        style=\"border:none\" />\n",
              "     <output id=\"result-708891da-ff82-4c35-9972-e0ecb1560c92\">\n",
              "      Upload widget is only available when the cell has been executed in the\n",
              "      current browser session. Please rerun this cell to enable.\n",
              "      </output>\n",
              "      <script>// Copyright 2017 Google LLC\n",
              "//\n",
              "// Licensed under the Apache License, Version 2.0 (the \"License\");\n",
              "// you may not use this file except in compliance with the License.\n",
              "// You may obtain a copy of the License at\n",
              "//\n",
              "//      http://www.apache.org/licenses/LICENSE-2.0\n",
              "//\n",
              "// Unless required by applicable law or agreed to in writing, software\n",
              "// distributed under the License is distributed on an \"AS IS\" BASIS,\n",
              "// WITHOUT WARRANTIES OR CONDITIONS OF ANY KIND, either express or implied.\n",
              "// See the License for the specific language governing permissions and\n",
              "// limitations under the License.\n",
              "\n",
              "/**\n",
              " * @fileoverview Helpers for google.colab Python module.\n",
              " */\n",
              "(function(scope) {\n",
              "function span(text, styleAttributes = {}) {\n",
              "  const element = document.createElement('span');\n",
              "  element.textContent = text;\n",
              "  for (const key of Object.keys(styleAttributes)) {\n",
              "    element.style[key] = styleAttributes[key];\n",
              "  }\n",
              "  return element;\n",
              "}\n",
              "\n",
              "// Max number of bytes which will be uploaded at a time.\n",
              "const MAX_PAYLOAD_SIZE = 100 * 1024;\n",
              "\n",
              "function _uploadFiles(inputId, outputId) {\n",
              "  const steps = uploadFilesStep(inputId, outputId);\n",
              "  const outputElement = document.getElementById(outputId);\n",
              "  // Cache steps on the outputElement to make it available for the next call\n",
              "  // to uploadFilesContinue from Python.\n",
              "  outputElement.steps = steps;\n",
              "\n",
              "  return _uploadFilesContinue(outputId);\n",
              "}\n",
              "\n",
              "// This is roughly an async generator (not supported in the browser yet),\n",
              "// where there are multiple asynchronous steps and the Python side is going\n",
              "// to poll for completion of each step.\n",
              "// This uses a Promise to block the python side on completion of each step,\n",
              "// then passes the result of the previous step as the input to the next step.\n",
              "function _uploadFilesContinue(outputId) {\n",
              "  const outputElement = document.getElementById(outputId);\n",
              "  const steps = outputElement.steps;\n",
              "\n",
              "  const next = steps.next(outputElement.lastPromiseValue);\n",
              "  return Promise.resolve(next.value.promise).then((value) => {\n",
              "    // Cache the last promise value to make it available to the next\n",
              "    // step of the generator.\n",
              "    outputElement.lastPromiseValue = value;\n",
              "    return next.value.response;\n",
              "  });\n",
              "}\n",
              "\n",
              "/**\n",
              " * Generator function which is called between each async step of the upload\n",
              " * process.\n",
              " * @param {string} inputId Element ID of the input file picker element.\n",
              " * @param {string} outputId Element ID of the output display.\n",
              " * @return {!Iterable<!Object>} Iterable of next steps.\n",
              " */\n",
              "function* uploadFilesStep(inputId, outputId) {\n",
              "  const inputElement = document.getElementById(inputId);\n",
              "  inputElement.disabled = false;\n",
              "\n",
              "  const outputElement = document.getElementById(outputId);\n",
              "  outputElement.innerHTML = '';\n",
              "\n",
              "  const pickedPromise = new Promise((resolve) => {\n",
              "    inputElement.addEventListener('change', (e) => {\n",
              "      resolve(e.target.files);\n",
              "    });\n",
              "  });\n",
              "\n",
              "  const cancel = document.createElement('button');\n",
              "  inputElement.parentElement.appendChild(cancel);\n",
              "  cancel.textContent = 'Cancel upload';\n",
              "  const cancelPromise = new Promise((resolve) => {\n",
              "    cancel.onclick = () => {\n",
              "      resolve(null);\n",
              "    };\n",
              "  });\n",
              "\n",
              "  // Wait for the user to pick the files.\n",
              "  const files = yield {\n",
              "    promise: Promise.race([pickedPromise, cancelPromise]),\n",
              "    response: {\n",
              "      action: 'starting',\n",
              "    }\n",
              "  };\n",
              "\n",
              "  cancel.remove();\n",
              "\n",
              "  // Disable the input element since further picks are not allowed.\n",
              "  inputElement.disabled = true;\n",
              "\n",
              "  if (!files) {\n",
              "    return {\n",
              "      response: {\n",
              "        action: 'complete',\n",
              "      }\n",
              "    };\n",
              "  }\n",
              "\n",
              "  for (const file of files) {\n",
              "    const li = document.createElement('li');\n",
              "    li.append(span(file.name, {fontWeight: 'bold'}));\n",
              "    li.append(span(\n",
              "        `(${file.type || 'n/a'}) - ${file.size} bytes, ` +\n",
              "        `last modified: ${\n",
              "            file.lastModifiedDate ? file.lastModifiedDate.toLocaleDateString() :\n",
              "                                    'n/a'} - `));\n",
              "    const percent = span('0% done');\n",
              "    li.appendChild(percent);\n",
              "\n",
              "    outputElement.appendChild(li);\n",
              "\n",
              "    const fileDataPromise = new Promise((resolve) => {\n",
              "      const reader = new FileReader();\n",
              "      reader.onload = (e) => {\n",
              "        resolve(e.target.result);\n",
              "      };\n",
              "      reader.readAsArrayBuffer(file);\n",
              "    });\n",
              "    // Wait for the data to be ready.\n",
              "    let fileData = yield {\n",
              "      promise: fileDataPromise,\n",
              "      response: {\n",
              "        action: 'continue',\n",
              "      }\n",
              "    };\n",
              "\n",
              "    // Use a chunked sending to avoid message size limits. See b/62115660.\n",
              "    let position = 0;\n",
              "    do {\n",
              "      const length = Math.min(fileData.byteLength - position, MAX_PAYLOAD_SIZE);\n",
              "      const chunk = new Uint8Array(fileData, position, length);\n",
              "      position += length;\n",
              "\n",
              "      const base64 = btoa(String.fromCharCode.apply(null, chunk));\n",
              "      yield {\n",
              "        response: {\n",
              "          action: 'append',\n",
              "          file: file.name,\n",
              "          data: base64,\n",
              "        },\n",
              "      };\n",
              "\n",
              "      let percentDone = fileData.byteLength === 0 ?\n",
              "          100 :\n",
              "          Math.round((position / fileData.byteLength) * 100);\n",
              "      percent.textContent = `${percentDone}% done`;\n",
              "\n",
              "    } while (position < fileData.byteLength);\n",
              "  }\n",
              "\n",
              "  // All done.\n",
              "  yield {\n",
              "    response: {\n",
              "      action: 'complete',\n",
              "    }\n",
              "  };\n",
              "}\n",
              "\n",
              "scope.google = scope.google || {};\n",
              "scope.google.colab = scope.google.colab || {};\n",
              "scope.google.colab._files = {\n",
              "  _uploadFiles,\n",
              "  _uploadFilesContinue,\n",
              "};\n",
              "})(self);\n",
              "</script> "
            ]
          },
          "metadata": {}
        },
        {
          "output_type": "stream",
          "name": "stdout",
          "text": [
            "Saving Grade.csv to Grade.csv\n"
          ]
        }
      ]
    },
    {
      "cell_type": "markdown",
      "source": [
        "# Viewing the Data"
      ],
      "metadata": {
        "id": "Igv6ieKg0dix"
      }
    },
    {
      "cell_type": "code",
      "execution_count": 27,
      "metadata": {
        "colab": {
          "base_uri": "https://localhost:8080/"
        },
        "id": "FgZGqzx6xwC6",
        "outputId": "13ff3b1e-b1cd-4cf6-f5a0-b31d9c07a48d"
      },
      "outputs": [
        {
          "output_type": "stream",
          "name": "stdout",
          "text": [
            "    CpE 0323-1  Quiz 1  Python Fundamentals  Conditional Statements  \\\n",
            "0         Name      50                  100                     100   \n",
            "1    STUDENT 1      33                  100                     100   \n",
            "2    STUDENT 2      22                  100                     100   \n",
            "3    STUDENT 3      42                  100                     100   \n",
            "4    STUDENT 4      34                  100                     100   \n",
            "5    STUDENT 5      38                  100                     100   \n",
            "6    STUDENT 6      30                  100                     100   \n",
            "7    STUDENT 7      24                  100                     100   \n",
            "8    STUDENT 8      37                  100                     100   \n",
            "9    STUDENT 9       0                  100                     100   \n",
            "10  STUDENT 10      43                  100                     100   \n",
            "11  STUDENT 11      35                  100                     100   \n",
            "12  STUDENT 12      41                  100                     100   \n",
            "13  STUDENT 13      37                  100                     100   \n",
            "14  STUDENT 14       0                  100                     100   \n",
            "15  STUDENT 15      37                  100                     100   \n",
            "16  STUDENT 16      31                  100                     100   \n",
            "17  STUDENT 17      28                  100                     100   \n",
            "18  STUDENT 18      43                  100                     100   \n",
            "19  STUDENT 19      35                  100                     100   \n",
            "20  STUDENT 20      31                  100                     100   \n",
            "21  STUDENT 20      31                  100                     100   \n",
            "22  STUDENT 22      35                  100                     100   \n",
            "23  STUDENT 23      31                  100                     100   \n",
            "24  STUDENT 24       0                  100                     100   \n",
            "25  STUDENT 25      31                  100                     100   \n",
            "26  STUDENT 26       0                  100                     100   \n",
            "27  STUDENT 27      40                  100                     100   \n",
            "28  STUDENT 28      40                  100                     100   \n",
            "29  STUDENT 29      36                  100                     100   \n",
            "\n",
            "    Loop Statement  Data Structure  Image Acquisition  Lab 1  Lab 2  Lab 3  \\\n",
            "0              100             100                100    100    100    100   \n",
            "1              100             100                100     90     90     90   \n",
            "2              100             100                100     80     75     75   \n",
            "3              100             100                100     90     80     90   \n",
            "4              100             100                100     80     75     75   \n",
            "5              100             100                100     90     80     90   \n",
            "6              100             100                100     80     75     75   \n",
            "7              100             100                100     90     80     90   \n",
            "8              100             100                100     90     80     90   \n",
            "9              100             100                100     90     90     90   \n",
            "10             100             100                100     95     95     95   \n",
            "11             100             100                100     90     90     90   \n",
            "12             100             100                100     90     90     90   \n",
            "13             100             100                100     90     90     90   \n",
            "14              75             100                100     95     95     95   \n",
            "15             100              75                 75     90     80     90   \n",
            "16             100             100                100     90     80     90   \n",
            "17             100             100                100     90     80     90   \n",
            "18             100             100                100     90     80     90   \n",
            "19             100             100                100     90     90     90   \n",
            "20             100             100                100     90     90     90   \n",
            "21             100             100                100     90     90     90   \n",
            "22             100             100                100     90     90     90   \n",
            "23             100             100                100     80     75     75   \n",
            "24              75              75                 75     90     80     90   \n",
            "25             100             100                100     95     95     95   \n",
            "26              75              75                 75     90     80     90   \n",
            "27             100             100                100     80     75     75   \n",
            "28             100             100                100     90     90     90   \n",
            "29             100             100                100     90     90     90   \n",
            "\n",
            "    Lab 4  Lab 5  \n",
            "0     100    100  \n",
            "1      90     90  \n",
            "2      75     95  \n",
            "3      90     90  \n",
            "4      75     95  \n",
            "5      90     90  \n",
            "6      75     95  \n",
            "7      90     90  \n",
            "8      90     95  \n",
            "9      90     90  \n",
            "10     95     80  \n",
            "11     90     90  \n",
            "12     90     90  \n",
            "13     90     90  \n",
            "14     95     80  \n",
            "15     90     90  \n",
            "16     90     90  \n",
            "17     90     95  \n",
            "18     90     95  \n",
            "19     90     90  \n",
            "20     90     90  \n",
            "21     90     90  \n",
            "22     90     90  \n",
            "23     75     95  \n",
            "24     90     95  \n",
            "25     95     80  \n",
            "26     90     95  \n",
            "27     75     95  \n",
            "28     90     90  \n",
            "29     90     90  \n",
            "  CpE 0323-1  Quiz 1  Python Fundamentals  Conditional Statements  \\\n",
            "0       Name      50                  100                     100   \n",
            "1  STUDENT 1      33                  100                     100   \n",
            "2  STUDENT 2      22                  100                     100   \n",
            "3  STUDENT 3      42                  100                     100   \n",
            "4  STUDENT 4      34                  100                     100   \n",
            "5  STUDENT 5      38                  100                     100   \n",
            "6  STUDENT 6      30                  100                     100   \n",
            "7  STUDENT 7      24                  100                     100   \n",
            "8  STUDENT 8      37                  100                     100   \n",
            "9  STUDENT 9       0                  100                     100   \n",
            "\n",
            "   Loop Statement  Data Structure  Image Acquisition  Lab 1  Lab 2  Lab 3  \\\n",
            "0             100             100                100    100    100    100   \n",
            "1             100             100                100     90     90     90   \n",
            "2             100             100                100     80     75     75   \n",
            "3             100             100                100     90     80     90   \n",
            "4             100             100                100     80     75     75   \n",
            "5             100             100                100     90     80     90   \n",
            "6             100             100                100     80     75     75   \n",
            "7             100             100                100     90     80     90   \n",
            "8             100             100                100     90     80     90   \n",
            "9             100             100                100     90     90     90   \n",
            "\n",
            "   Lab 4  Lab 5  \n",
            "0    100    100  \n",
            "1     90     90  \n",
            "2     75     95  \n",
            "3     90     90  \n",
            "4     75     95  \n",
            "5     90     90  \n",
            "6     75     95  \n",
            "7     90     90  \n",
            "8     90     95  \n",
            "9     90     90  \n",
            "    CpE 0323-1  Quiz 1  Python Fundamentals  Conditional Statements  \\\n",
            "20  STUDENT 20      31                  100                     100   \n",
            "21  STUDENT 20      31                  100                     100   \n",
            "22  STUDENT 22      35                  100                     100   \n",
            "23  STUDENT 23      31                  100                     100   \n",
            "24  STUDENT 24       0                  100                     100   \n",
            "25  STUDENT 25      31                  100                     100   \n",
            "26  STUDENT 26       0                  100                     100   \n",
            "27  STUDENT 27      40                  100                     100   \n",
            "28  STUDENT 28      40                  100                     100   \n",
            "29  STUDENT 29      36                  100                     100   \n",
            "\n",
            "    Loop Statement  Data Structure  Image Acquisition  Lab 1  Lab 2  Lab 3  \\\n",
            "20             100             100                100     90     90     90   \n",
            "21             100             100                100     90     90     90   \n",
            "22             100             100                100     90     90     90   \n",
            "23             100             100                100     80     75     75   \n",
            "24              75              75                 75     90     80     90   \n",
            "25             100             100                100     95     95     95   \n",
            "26              75              75                 75     90     80     90   \n",
            "27             100             100                100     80     75     75   \n",
            "28             100             100                100     90     90     90   \n",
            "29             100             100                100     90     90     90   \n",
            "\n",
            "    Lab 4  Lab 5  \n",
            "20     90     90  \n",
            "21     90     90  \n",
            "22     90     90  \n",
            "23     75     95  \n",
            "24     90     95  \n",
            "25     95     80  \n",
            "26     90     95  \n",
            "27     75     95  \n",
            "28     90     90  \n",
            "29     90     90  \n"
          ]
        }
      ],
      "source": [
        "import pandas as pd\n",
        "df = pd.read_csv('Grade.csv')\n",
        "print (df)\n",
        "print(df.head(10))\n",
        "print(df.tail(10))"
      ]
    },
    {
      "cell_type": "markdown",
      "source": [
        "# Removing Duplicates"
      ],
      "metadata": {
        "id": "P2eR7VJC2Dno"
      }
    },
    {
      "cell_type": "code",
      "source": [
        "print(df.duplicated())\n",
        "df.drop_duplicates(inplace = True)"
      ],
      "metadata": {
        "colab": {
          "base_uri": "https://localhost:8080/"
        },
        "collapsed": true,
        "id": "cW-Gh5Uo0DaQ",
        "outputId": "e67da7bc-2efd-46af-9972-3e81f71981d0"
      },
      "execution_count": 28,
      "outputs": [
        {
          "output_type": "stream",
          "name": "stdout",
          "text": [
            "0     False\n",
            "1     False\n",
            "2     False\n",
            "3     False\n",
            "4     False\n",
            "5     False\n",
            "6     False\n",
            "7     False\n",
            "8     False\n",
            "9     False\n",
            "10    False\n",
            "11    False\n",
            "12    False\n",
            "13    False\n",
            "14    False\n",
            "15    False\n",
            "16    False\n",
            "17    False\n",
            "18    False\n",
            "19    False\n",
            "20    False\n",
            "21     True\n",
            "22    False\n",
            "23    False\n",
            "24    False\n",
            "25    False\n",
            "26    False\n",
            "27    False\n",
            "28    False\n",
            "29    False\n",
            "dtype: bool\n"
          ]
        }
      ]
    },
    {
      "cell_type": "code",
      "source": [
        "df.drop_duplicates(inplace = True)\n",
        "print(df)"
      ],
      "metadata": {
        "colab": {
          "base_uri": "https://localhost:8080/"
        },
        "collapsed": true,
        "id": "QO7VQkmv2yGy",
        "outputId": "31e58039-449e-45ee-821a-b0f3599f39e7"
      },
      "execution_count": 29,
      "outputs": [
        {
          "output_type": "stream",
          "name": "stdout",
          "text": [
            "    CpE 0323-1  Quiz 1  Python Fundamentals  Conditional Statements  \\\n",
            "0         Name      50                  100                     100   \n",
            "1    STUDENT 1      33                  100                     100   \n",
            "2    STUDENT 2      22                  100                     100   \n",
            "3    STUDENT 3      42                  100                     100   \n",
            "4    STUDENT 4      34                  100                     100   \n",
            "5    STUDENT 5      38                  100                     100   \n",
            "6    STUDENT 6      30                  100                     100   \n",
            "7    STUDENT 7      24                  100                     100   \n",
            "8    STUDENT 8      37                  100                     100   \n",
            "9    STUDENT 9       0                  100                     100   \n",
            "10  STUDENT 10      43                  100                     100   \n",
            "11  STUDENT 11      35                  100                     100   \n",
            "12  STUDENT 12      41                  100                     100   \n",
            "13  STUDENT 13      37                  100                     100   \n",
            "14  STUDENT 14       0                  100                     100   \n",
            "15  STUDENT 15      37                  100                     100   \n",
            "16  STUDENT 16      31                  100                     100   \n",
            "17  STUDENT 17      28                  100                     100   \n",
            "18  STUDENT 18      43                  100                     100   \n",
            "19  STUDENT 19      35                  100                     100   \n",
            "20  STUDENT 20      31                  100                     100   \n",
            "22  STUDENT 22      35                  100                     100   \n",
            "23  STUDENT 23      31                  100                     100   \n",
            "24  STUDENT 24       0                  100                     100   \n",
            "25  STUDENT 25      31                  100                     100   \n",
            "26  STUDENT 26       0                  100                     100   \n",
            "27  STUDENT 27      40                  100                     100   \n",
            "28  STUDENT 28      40                  100                     100   \n",
            "29  STUDENT 29      36                  100                     100   \n",
            "\n",
            "    Loop Statement  Data Structure  Image Acquisition  Lab 1  Lab 2  Lab 3  \\\n",
            "0              100             100                100    100    100    100   \n",
            "1              100             100                100     90     90     90   \n",
            "2              100             100                100     80     75     75   \n",
            "3              100             100                100     90     80     90   \n",
            "4              100             100                100     80     75     75   \n",
            "5              100             100                100     90     80     90   \n",
            "6              100             100                100     80     75     75   \n",
            "7              100             100                100     90     80     90   \n",
            "8              100             100                100     90     80     90   \n",
            "9              100             100                100     90     90     90   \n",
            "10             100             100                100     95     95     95   \n",
            "11             100             100                100     90     90     90   \n",
            "12             100             100                100     90     90     90   \n",
            "13             100             100                100     90     90     90   \n",
            "14              75             100                100     95     95     95   \n",
            "15             100              75                 75     90     80     90   \n",
            "16             100             100                100     90     80     90   \n",
            "17             100             100                100     90     80     90   \n",
            "18             100             100                100     90     80     90   \n",
            "19             100             100                100     90     90     90   \n",
            "20             100             100                100     90     90     90   \n",
            "22             100             100                100     90     90     90   \n",
            "23             100             100                100     80     75     75   \n",
            "24              75              75                 75     90     80     90   \n",
            "25             100             100                100     95     95     95   \n",
            "26              75              75                 75     90     80     90   \n",
            "27             100             100                100     80     75     75   \n",
            "28             100             100                100     90     90     90   \n",
            "29             100             100                100     90     90     90   \n",
            "\n",
            "    Lab 4  Lab 5  \n",
            "0     100    100  \n",
            "1      90     90  \n",
            "2      75     95  \n",
            "3      90     90  \n",
            "4      75     95  \n",
            "5      90     90  \n",
            "6      75     95  \n",
            "7      90     90  \n",
            "8      90     95  \n",
            "9      90     90  \n",
            "10     95     80  \n",
            "11     90     90  \n",
            "12     90     90  \n",
            "13     90     90  \n",
            "14     95     80  \n",
            "15     90     90  \n",
            "16     90     90  \n",
            "17     90     95  \n",
            "18     90     95  \n",
            "19     90     90  \n",
            "20     90     90  \n",
            "22     90     90  \n",
            "23     75     95  \n",
            "24     90     95  \n",
            "25     95     80  \n",
            "26     90     95  \n",
            "27     75     95  \n",
            "28     90     90  \n",
            "29     90     90  \n"
          ]
        }
      ]
    },
    {
      "cell_type": "markdown",
      "source": [
        "# Tabulate"
      ],
      "metadata": {
        "id": "6vNU7IeN3R3C"
      }
    },
    {
      "cell_type": "code",
      "source": [
        "from tabulate import tabulate\n",
        "df.drop_duplicates(inplace = True)\n",
        "print(tabulate(df, headers='keys', tablefmt='psql',showindex = False))"
      ],
      "metadata": {
        "colab": {
          "base_uri": "https://localhost:8080/"
        },
        "id": "yBaucb_53ar4",
        "outputId": "99a7eb94-8a2d-4523-f8f2-936e57c5c8da"
      },
      "execution_count": 37,
      "outputs": [
        {
          "output_type": "stream",
          "name": "stdout",
          "text": [
            "+--------------+----------+-----------------------+--------------------------+------------------+------------------+---------------------+---------+---------+---------+---------+---------+\n",
            "| CpE 0323-1   |   Quiz 1 |   Python Fundamentals |   Conditional Statements |   Loop Statement |   Data Structure |   Image Acquisition |   Lab 1 |   Lab 2 |   Lab 3 |   Lab 4 |   Lab 5 |\n",
            "|--------------+----------+-----------------------+--------------------------+------------------+------------------+---------------------+---------+---------+---------+---------+---------|\n",
            "| Name         |       50 |                   100 |                      100 |              100 |              100 |                 100 |     100 |     100 |     100 |     100 |     100 |\n",
            "| STUDENT 1    |       33 |                   100 |                      100 |              100 |              100 |                 100 |      90 |      90 |      90 |      90 |      90 |\n",
            "| STUDENT 2    |       22 |                   100 |                      100 |              100 |              100 |                 100 |      80 |      75 |      75 |      75 |      95 |\n",
            "| STUDENT 3    |       42 |                   100 |                      100 |              100 |              100 |                 100 |      90 |      80 |      90 |      90 |      90 |\n",
            "| STUDENT 4    |       34 |                   100 |                      100 |              100 |              100 |                 100 |      80 |      75 |      75 |      75 |      95 |\n",
            "| STUDENT 5    |       38 |                   100 |                      100 |              100 |              100 |                 100 |      90 |      80 |      90 |      90 |      90 |\n",
            "| STUDENT 6    |       30 |                   100 |                      100 |              100 |              100 |                 100 |      80 |      75 |      75 |      75 |      95 |\n",
            "| STUDENT 7    |       24 |                   100 |                      100 |              100 |              100 |                 100 |      90 |      80 |      90 |      90 |      90 |\n",
            "| STUDENT 8    |       37 |                   100 |                      100 |              100 |              100 |                 100 |      90 |      80 |      90 |      90 |      95 |\n",
            "| STUDENT 9    |        0 |                   100 |                      100 |              100 |              100 |                 100 |      90 |      90 |      90 |      90 |      90 |\n",
            "| STUDENT 10   |       43 |                   100 |                      100 |              100 |              100 |                 100 |      95 |      95 |      95 |      95 |      80 |\n",
            "| STUDENT 11   |       35 |                   100 |                      100 |              100 |              100 |                 100 |      90 |      90 |      90 |      90 |      90 |\n",
            "| STUDENT 12   |       41 |                   100 |                      100 |              100 |              100 |                 100 |      90 |      90 |      90 |      90 |      90 |\n",
            "| STUDENT 13   |       37 |                   100 |                      100 |              100 |              100 |                 100 |      90 |      90 |      90 |      90 |      90 |\n",
            "| STUDENT 14   |        0 |                   100 |                      100 |               75 |              100 |                 100 |      95 |      95 |      95 |      95 |      80 |\n",
            "| STUDENT 15   |       37 |                   100 |                      100 |              100 |               75 |                  75 |      90 |      80 |      90 |      90 |      90 |\n",
            "| STUDENT 16   |       31 |                   100 |                      100 |              100 |              100 |                 100 |      90 |      80 |      90 |      90 |      90 |\n",
            "| STUDENT 17   |       28 |                   100 |                      100 |              100 |              100 |                 100 |      90 |      80 |      90 |      90 |      95 |\n",
            "| STUDENT 18   |       43 |                   100 |                      100 |              100 |              100 |                 100 |      90 |      80 |      90 |      90 |      95 |\n",
            "| STUDENT 19   |       35 |                   100 |                      100 |              100 |              100 |                 100 |      90 |      90 |      90 |      90 |      90 |\n",
            "| STUDENT 20   |       31 |                   100 |                      100 |              100 |              100 |                 100 |      90 |      90 |      90 |      90 |      90 |\n",
            "| STUDENT 22   |       35 |                   100 |                      100 |              100 |              100 |                 100 |      90 |      90 |      90 |      90 |      90 |\n",
            "| STUDENT 23   |       31 |                   100 |                      100 |              100 |              100 |                 100 |      80 |      75 |      75 |      75 |      95 |\n",
            "| STUDENT 24   |        0 |                   100 |                      100 |               75 |               75 |                  75 |      90 |      80 |      90 |      90 |      95 |\n",
            "| STUDENT 25   |       31 |                   100 |                      100 |              100 |              100 |                 100 |      95 |      95 |      95 |      95 |      80 |\n",
            "| STUDENT 26   |        0 |                   100 |                      100 |               75 |               75 |                  75 |      90 |      80 |      90 |      90 |      95 |\n",
            "| STUDENT 27   |       40 |                   100 |                      100 |              100 |              100 |                 100 |      80 |      75 |      75 |      75 |      95 |\n",
            "| STUDENT 28   |       40 |                   100 |                      100 |              100 |              100 |                 100 |      90 |      90 |      90 |      90 |      90 |\n",
            "| STUDENT 29   |       36 |                   100 |                      100 |              100 |              100 |                 100 |      90 |      90 |      90 |      90 |      90 |\n",
            "+--------------+----------+-----------------------+--------------------------+------------------+------------------+---------------------+---------+---------+---------+---------+---------+\n"
          ]
        }
      ]
    },
    {
      "cell_type": "markdown",
      "source": [
        "#**Challenge 3**"
      ],
      "metadata": {
        "id": "5OzpbvNh5m9P"
      }
    },
    {
      "cell_type": "markdown",
      "source": [
        "Import SampleData.csv to Google Colab"
      ],
      "metadata": {
        "id": "SqGNEtZ46NlX"
      }
    },
    {
      "cell_type": "code",
      "source": [
        "import pandas as pd\n",
        "from google.colab import files\n",
        "uploaded = files.upload()"
      ],
      "metadata": {
        "colab": {
          "base_uri": "https://localhost:8080/",
          "height": 74
        },
        "id": "SQZCfYxL6x5w",
        "outputId": "b905fa8a-28cb-424b-bbbc-109900deec1a"
      },
      "execution_count": 39,
      "outputs": [
        {
          "output_type": "display_data",
          "data": {
            "text/plain": [
              "<IPython.core.display.HTML object>"
            ],
            "text/html": [
              "\n",
              "     <input type=\"file\" id=\"files-48a01aee-97e5-4d05-8c3f-a57dff822e20\" name=\"files[]\" multiple disabled\n",
              "        style=\"border:none\" />\n",
              "     <output id=\"result-48a01aee-97e5-4d05-8c3f-a57dff822e20\">\n",
              "      Upload widget is only available when the cell has been executed in the\n",
              "      current browser session. Please rerun this cell to enable.\n",
              "      </output>\n",
              "      <script>// Copyright 2017 Google LLC\n",
              "//\n",
              "// Licensed under the Apache License, Version 2.0 (the \"License\");\n",
              "// you may not use this file except in compliance with the License.\n",
              "// You may obtain a copy of the License at\n",
              "//\n",
              "//      http://www.apache.org/licenses/LICENSE-2.0\n",
              "//\n",
              "// Unless required by applicable law or agreed to in writing, software\n",
              "// distributed under the License is distributed on an \"AS IS\" BASIS,\n",
              "// WITHOUT WARRANTIES OR CONDITIONS OF ANY KIND, either express or implied.\n",
              "// See the License for the specific language governing permissions and\n",
              "// limitations under the License.\n",
              "\n",
              "/**\n",
              " * @fileoverview Helpers for google.colab Python module.\n",
              " */\n",
              "(function(scope) {\n",
              "function span(text, styleAttributes = {}) {\n",
              "  const element = document.createElement('span');\n",
              "  element.textContent = text;\n",
              "  for (const key of Object.keys(styleAttributes)) {\n",
              "    element.style[key] = styleAttributes[key];\n",
              "  }\n",
              "  return element;\n",
              "}\n",
              "\n",
              "// Max number of bytes which will be uploaded at a time.\n",
              "const MAX_PAYLOAD_SIZE = 100 * 1024;\n",
              "\n",
              "function _uploadFiles(inputId, outputId) {\n",
              "  const steps = uploadFilesStep(inputId, outputId);\n",
              "  const outputElement = document.getElementById(outputId);\n",
              "  // Cache steps on the outputElement to make it available for the next call\n",
              "  // to uploadFilesContinue from Python.\n",
              "  outputElement.steps = steps;\n",
              "\n",
              "  return _uploadFilesContinue(outputId);\n",
              "}\n",
              "\n",
              "// This is roughly an async generator (not supported in the browser yet),\n",
              "// where there are multiple asynchronous steps and the Python side is going\n",
              "// to poll for completion of each step.\n",
              "// This uses a Promise to block the python side on completion of each step,\n",
              "// then passes the result of the previous step as the input to the next step.\n",
              "function _uploadFilesContinue(outputId) {\n",
              "  const outputElement = document.getElementById(outputId);\n",
              "  const steps = outputElement.steps;\n",
              "\n",
              "  const next = steps.next(outputElement.lastPromiseValue);\n",
              "  return Promise.resolve(next.value.promise).then((value) => {\n",
              "    // Cache the last promise value to make it available to the next\n",
              "    // step of the generator.\n",
              "    outputElement.lastPromiseValue = value;\n",
              "    return next.value.response;\n",
              "  });\n",
              "}\n",
              "\n",
              "/**\n",
              " * Generator function which is called between each async step of the upload\n",
              " * process.\n",
              " * @param {string} inputId Element ID of the input file picker element.\n",
              " * @param {string} outputId Element ID of the output display.\n",
              " * @return {!Iterable<!Object>} Iterable of next steps.\n",
              " */\n",
              "function* uploadFilesStep(inputId, outputId) {\n",
              "  const inputElement = document.getElementById(inputId);\n",
              "  inputElement.disabled = false;\n",
              "\n",
              "  const outputElement = document.getElementById(outputId);\n",
              "  outputElement.innerHTML = '';\n",
              "\n",
              "  const pickedPromise = new Promise((resolve) => {\n",
              "    inputElement.addEventListener('change', (e) => {\n",
              "      resolve(e.target.files);\n",
              "    });\n",
              "  });\n",
              "\n",
              "  const cancel = document.createElement('button');\n",
              "  inputElement.parentElement.appendChild(cancel);\n",
              "  cancel.textContent = 'Cancel upload';\n",
              "  const cancelPromise = new Promise((resolve) => {\n",
              "    cancel.onclick = () => {\n",
              "      resolve(null);\n",
              "    };\n",
              "  });\n",
              "\n",
              "  // Wait for the user to pick the files.\n",
              "  const files = yield {\n",
              "    promise: Promise.race([pickedPromise, cancelPromise]),\n",
              "    response: {\n",
              "      action: 'starting',\n",
              "    }\n",
              "  };\n",
              "\n",
              "  cancel.remove();\n",
              "\n",
              "  // Disable the input element since further picks are not allowed.\n",
              "  inputElement.disabled = true;\n",
              "\n",
              "  if (!files) {\n",
              "    return {\n",
              "      response: {\n",
              "        action: 'complete',\n",
              "      }\n",
              "    };\n",
              "  }\n",
              "\n",
              "  for (const file of files) {\n",
              "    const li = document.createElement('li');\n",
              "    li.append(span(file.name, {fontWeight: 'bold'}));\n",
              "    li.append(span(\n",
              "        `(${file.type || 'n/a'}) - ${file.size} bytes, ` +\n",
              "        `last modified: ${\n",
              "            file.lastModifiedDate ? file.lastModifiedDate.toLocaleDateString() :\n",
              "                                    'n/a'} - `));\n",
              "    const percent = span('0% done');\n",
              "    li.appendChild(percent);\n",
              "\n",
              "    outputElement.appendChild(li);\n",
              "\n",
              "    const fileDataPromise = new Promise((resolve) => {\n",
              "      const reader = new FileReader();\n",
              "      reader.onload = (e) => {\n",
              "        resolve(e.target.result);\n",
              "      };\n",
              "      reader.readAsArrayBuffer(file);\n",
              "    });\n",
              "    // Wait for the data to be ready.\n",
              "    let fileData = yield {\n",
              "      promise: fileDataPromise,\n",
              "      response: {\n",
              "        action: 'continue',\n",
              "      }\n",
              "    };\n",
              "\n",
              "    // Use a chunked sending to avoid message size limits. See b/62115660.\n",
              "    let position = 0;\n",
              "    do {\n",
              "      const length = Math.min(fileData.byteLength - position, MAX_PAYLOAD_SIZE);\n",
              "      const chunk = new Uint8Array(fileData, position, length);\n",
              "      position += length;\n",
              "\n",
              "      const base64 = btoa(String.fromCharCode.apply(null, chunk));\n",
              "      yield {\n",
              "        response: {\n",
              "          action: 'append',\n",
              "          file: file.name,\n",
              "          data: base64,\n",
              "        },\n",
              "      };\n",
              "\n",
              "      let percentDone = fileData.byteLength === 0 ?\n",
              "          100 :\n",
              "          Math.round((position / fileData.byteLength) * 100);\n",
              "      percent.textContent = `${percentDone}% done`;\n",
              "\n",
              "    } while (position < fileData.byteLength);\n",
              "  }\n",
              "\n",
              "  // All done.\n",
              "  yield {\n",
              "    response: {\n",
              "      action: 'complete',\n",
              "    }\n",
              "  };\n",
              "}\n",
              "\n",
              "scope.google = scope.google || {};\n",
              "scope.google.colab = scope.google.colab || {};\n",
              "scope.google.colab._files = {\n",
              "  _uploadFiles,\n",
              "  _uploadFilesContinue,\n",
              "};\n",
              "})(self);\n",
              "</script> "
            ]
          },
          "metadata": {}
        },
        {
          "output_type": "stream",
          "name": "stdout",
          "text": [
            "Saving SampleData.csv to SampleData.csv\n"
          ]
        }
      ]
    },
    {
      "cell_type": "markdown",
      "source": [
        "Read the contents of SampleData.csv"
      ],
      "metadata": {
        "id": "DHn49bs86N64"
      }
    },
    {
      "cell_type": "code",
      "source": [
        "import pandas as pd\n",
        "df = pd.read_csv('SampleData.csv')\n",
        "print (df)"
      ],
      "metadata": {
        "colab": {
          "base_uri": "https://localhost:8080/"
        },
        "id": "aX7Sq3rk7Hmo",
        "outputId": "1d17ffed-5362-401c-bac2-b2e6731aed81"
      },
      "execution_count": 40,
      "outputs": [
        {
          "output_type": "stream",
          "name": "stdout",
          "text": [
            "   OrderDate   Region       Rep     Item  Units  Unit Cost       Total\n",
            "0     1/6/21     East     Jones   Pencil     95       1.99     189.05 \n",
            "1    1/23/21  Central    Kivell   Binder     50      19.99     999.50 \n",
            "2     2/9/21  Central   Jardine   Pencil     36       4.99     179.64 \n",
            "3    2/26/21  Central      Gill      Pen     27      19.99     539.73 \n",
            "4    3/15/21     West   Sorvino   Pencil     56       2.99     167.44 \n",
            "5     4/1/21     East     Jones   Binder     60       4.99     299.40 \n",
            "6    4/18/21  Central   Andrews   Pencil     75       1.99     149.25 \n",
            "7     5/5/21  Central   Jardine   Pencil     90       4.99     449.10 \n",
            "8    5/22/21     West  Thompson   Pencil     32       1.99      63.68 \n",
            "9     6/8/21     East     Jones   Binder     60       8.99     539.40 \n",
            "10   6/25/21  Central    Morgan   Pencil     90       4.99     449.10 \n",
            "11   7/12/21     East    Howard   Binder     29       1.99      57.71 \n",
            "12   7/29/21     East    Parent   Binder     81      19.99   1,619.19 \n",
            "13   8/15/21     East     Jones   Pencil     35       4.99     174.65 \n",
            "14    9/1/21  Central     Smith     Desk      2     125.00     250.00 \n",
            "15    9/1/21  Central     Smith     Desk      2     125.00     250.00 \n",
            "16   10/5/21  Central    Morgan   Binder     28       8.99     251.72 \n",
            "17  10/22/21     East     Jones      Pen     64       8.99     575.36 \n",
            "18   11/8/21     East    Parent      Pen     15      19.99     299.85 \n",
            "19  11/25/21  Central    Kivell  Pen Set     96       4.99     479.04 \n",
            "20  12/12/21  Central     Smith   Pencil     67       1.29      86.43 \n",
            "21  12/29/21     East    Parent  Pen Set     74      15.99   1,183.26 \n",
            "22  12/29/21     East    Parent  Pen Set     74      15.99   1,183.26 \n",
            "23    2/1/22  Central     Smith   Binder     87      15.00   1,305.00 \n",
            "24   2/18/22     East     Jones   Binder      4       4.99      19.96 \n",
            "25    3/7/22     West   Sorvino   Binder      7      19.99     139.93 \n",
            "26   3/24/22  Central   Jardine  Pen Set     50       4.99     249.50 \n",
            "27   4/10/22  Central   Andrews   Pencil     66       1.99     131.34 \n",
            "28   4/27/22     East    Howard      Pen     96       4.99     479.04 \n",
            "29   5/14/22  Central      Gill   Pencil     53       1.29      68.37 \n",
            "30   5/31/22  Central      Gill   Binder     80       8.99     719.20 \n",
            "31   6/17/22  Central    Kivell     Desk      5     125.00     625.00 \n",
            "32    7/4/22     East     Jones  Pen Set     62       4.99     309.38 \n",
            "33   7/21/22  Central    Morgan  Pen Set     55      12.49     686.95 \n",
            "34   7/21/22  Central    Morgan  Pen Set     55      12.49     686.95 \n",
            "35   7/21/22  Central    Morgan  Pen Set     55      12.49     686.95 \n",
            "36   9/10/22  Central      Gill   Pencil      7       1.29       9.03 \n",
            "37   9/27/22     West   Sorvino      Pen     76       1.99     151.24 \n",
            "38  10/14/22     West  Thompson   Binder     57      19.99   1,139.43 \n",
            "39  10/31/22  Central   Andrews   Pencil     14       1.29      18.06 \n",
            "40  11/17/22  Central   Jardine   Binder     11       4.99      54.89 \n",
            "41   12/4/22  Central   Jardine   Binder     94      19.99   1,879.06 \n",
            "42  12/21/22  Central   Andrews   Binder     28       4.99     139.72 \n"
          ]
        }
      ]
    },
    {
      "cell_type": "markdown",
      "source": [
        "Tabulate Data"
      ],
      "metadata": {
        "id": "Gsm7OWJ18aA_"
      }
    },
    {
      "cell_type": "code",
      "source": [
        "from tabulate import tabulate\n",
        "df.drop_duplicates(inplace = True)\n",
        "print(tabulate(df, headers='keys', tablefmt='psql',showindex = False))"
      ],
      "metadata": {
        "colab": {
          "base_uri": "https://localhost:8080/"
        },
        "id": "EGLmbR-K8ejj",
        "outputId": "d2a25366-5e31-4b9f-9eb7-3e793d1e1365"
      },
      "execution_count": 45,
      "outputs": [
        {
          "output_type": "stream",
          "name": "stdout",
          "text": [
            "+-------------+----------+----------+---------+---------+-------------+----------+\n",
            "| OrderDate   | Region   | Rep      | Item    |   Units |   Unit Cost | Total    |\n",
            "|-------------+----------+----------+---------+---------+-------------+----------|\n",
            "| 1/6/21      | East     | Jones    | Pencil  |      95 |        1.99 | 189.05   |\n",
            "| 1/23/21     | Central  | Kivell   | Binder  |      50 |       19.99 | 999.50   |\n",
            "| 2/9/21      | Central  | Jardine  | Pencil  |      36 |        4.99 | 179.64   |\n",
            "| 2/26/21     | Central  | Gill     | Pen     |      27 |       19.99 | 539.73   |\n",
            "| 3/15/21     | West     | Sorvino  | Pencil  |      56 |        2.99 | 167.44   |\n",
            "| 4/1/21      | East     | Jones    | Binder  |      60 |        4.99 | 299.40   |\n",
            "| 4/18/21     | Central  | Andrews  | Pencil  |      75 |        1.99 | 149.25   |\n",
            "| 5/5/21      | Central  | Jardine  | Pencil  |      90 |        4.99 | 449.10   |\n",
            "| 5/22/21     | West     | Thompson | Pencil  |      32 |        1.99 | 63.68    |\n",
            "| 6/8/21      | East     | Jones    | Binder  |      60 |        8.99 | 539.40   |\n",
            "| 6/25/21     | Central  | Morgan   | Pencil  |      90 |        4.99 | 449.10   |\n",
            "| 7/12/21     | East     | Howard   | Binder  |      29 |        1.99 | 57.71    |\n",
            "| 7/29/21     | East     | Parent   | Binder  |      81 |       19.99 | 1,619.19 |\n",
            "| 8/15/21     | East     | Jones    | Pencil  |      35 |        4.99 | 174.65   |\n",
            "| 9/1/21      | Central  | Smith    | Desk    |       2 |      125    | 250.00   |\n",
            "| 10/5/21     | Central  | Morgan   | Binder  |      28 |        8.99 | 251.72   |\n",
            "| 10/22/21    | East     | Jones    | Pen     |      64 |        8.99 | 575.36   |\n",
            "| 11/8/21     | East     | Parent   | Pen     |      15 |       19.99 | 299.85   |\n",
            "| 11/25/21    | Central  | Kivell   | Pen Set |      96 |        4.99 | 479.04   |\n",
            "| 12/12/21    | Central  | Smith    | Pencil  |      67 |        1.29 | 86.43    |\n",
            "| 12/29/21    | East     | Parent   | Pen Set |      74 |       15.99 | 1,183.26 |\n",
            "| 2/1/22      | Central  | Smith    | Binder  |      87 |       15    | 1,305.00 |\n",
            "| 2/18/22     | East     | Jones    | Binder  |       4 |        4.99 | 19.96    |\n",
            "| 3/7/22      | West     | Sorvino  | Binder  |       7 |       19.99 | 139.93   |\n",
            "| 3/24/22     | Central  | Jardine  | Pen Set |      50 |        4.99 | 249.50   |\n",
            "| 4/10/22     | Central  | Andrews  | Pencil  |      66 |        1.99 | 131.34   |\n",
            "| 4/27/22     | East     | Howard   | Pen     |      96 |        4.99 | 479.04   |\n",
            "| 5/14/22     | Central  | Gill     | Pencil  |      53 |        1.29 | 68.37    |\n",
            "| 5/31/22     | Central  | Gill     | Binder  |      80 |        8.99 | 719.20   |\n",
            "| 6/17/22     | Central  | Kivell   | Desk    |       5 |      125    | 625.00   |\n",
            "| 7/4/22      | East     | Jones    | Pen Set |      62 |        4.99 | 309.38   |\n",
            "| 7/21/22     | Central  | Morgan   | Pen Set |      55 |       12.49 | 686.95   |\n",
            "| 9/10/22     | Central  | Gill     | Pencil  |       7 |        1.29 | 9.03     |\n",
            "| 9/27/22     | West     | Sorvino  | Pen     |      76 |        1.99 | 151.24   |\n",
            "| 10/14/22    | West     | Thompson | Binder  |      57 |       19.99 | 1,139.43 |\n",
            "| 10/31/22    | Central  | Andrews  | Pencil  |      14 |        1.29 | 18.06    |\n",
            "| 11/17/22    | Central  | Jardine  | Binder  |      11 |        4.99 | 54.89    |\n",
            "| 12/4/22     | Central  | Jardine  | Binder  |      94 |       19.99 | 1,879.06 |\n",
            "| 12/21/22    | Central  | Andrews  | Binder  |      28 |        4.99 | 139.72   |\n",
            "+-------------+----------+----------+---------+---------+-------------+----------+\n"
          ]
        }
      ]
    },
    {
      "cell_type": "markdown",
      "source": [
        "Show all the top 10 records"
      ],
      "metadata": {
        "id": "H_rUHFhF6ODT"
      }
    },
    {
      "cell_type": "code",
      "source": [
        "import pandas as pd\n",
        "df = pd.read_csv('SampleData.csv')\n",
        "print(tabulate(df.head(10), headers='keys', tablefmt='psql',showindex = False))\n"
      ],
      "metadata": {
        "colab": {
          "base_uri": "https://localhost:8080/"
        },
        "id": "a7QPY2uk7Epz",
        "outputId": "57c46efe-2e32-4f71-c985-bada2375eed4"
      },
      "execution_count": 50,
      "outputs": [
        {
          "output_type": "stream",
          "name": "stdout",
          "text": [
            "+-------------+----------+----------+--------+---------+-------------+---------+\n",
            "| OrderDate   | Region   | Rep      | Item   |   Units |   Unit Cost |   Total |\n",
            "|-------------+----------+----------+--------+---------+-------------+---------|\n",
            "| 1/6/21      | East     | Jones    | Pencil |      95 |        1.99 |  189.05 |\n",
            "| 1/23/21     | Central  | Kivell   | Binder |      50 |       19.99 |  999.5  |\n",
            "| 2/9/21      | Central  | Jardine  | Pencil |      36 |        4.99 |  179.64 |\n",
            "| 2/26/21     | Central  | Gill     | Pen    |      27 |       19.99 |  539.73 |\n",
            "| 3/15/21     | West     | Sorvino  | Pencil |      56 |        2.99 |  167.44 |\n",
            "| 4/1/21      | East     | Jones    | Binder |      60 |        4.99 |  299.4  |\n",
            "| 4/18/21     | Central  | Andrews  | Pencil |      75 |        1.99 |  149.25 |\n",
            "| 5/5/21      | Central  | Jardine  | Pencil |      90 |        4.99 |  449.1  |\n",
            "| 5/22/21     | West     | Thompson | Pencil |      32 |        1.99 |   63.68 |\n",
            "| 6/8/21      | East     | Jones    | Binder |      60 |        8.99 |  539.4  |\n",
            "+-------------+----------+----------+--------+---------+-------------+---------+\n"
          ]
        }
      ]
    },
    {
      "cell_type": "markdown",
      "source": [
        "Show all the bottom 10 records"
      ],
      "metadata": {
        "id": "weC85vCP6OMn"
      }
    },
    {
      "cell_type": "code",
      "source": [
        "import pandas as pd\n",
        "df = pd.read_csv('SampleData.csv')\n",
        "print(tabulate(df.tail(10), headers='keys', tablefmt='psql',showindex = False))"
      ],
      "metadata": {
        "colab": {
          "base_uri": "https://localhost:8080/"
        },
        "id": "fXGbAJd67FGJ",
        "outputId": "dda60533-37eb-4929-9f6a-8726e65ce48d"
      },
      "execution_count": 52,
      "outputs": [
        {
          "output_type": "stream",
          "name": "stdout",
          "text": [
            "+-------------+----------+----------+---------+---------+-------------+----------+\n",
            "| OrderDate   | Region   | Rep      | Item    |   Units |   Unit Cost | Total    |\n",
            "|-------------+----------+----------+---------+---------+-------------+----------|\n",
            "| 7/21/22     | Central  | Morgan   | Pen Set |      55 |       12.49 | 686.95   |\n",
            "| 7/21/22     | Central  | Morgan   | Pen Set |      55 |       12.49 | 686.95   |\n",
            "| 7/21/22     | Central  | Morgan   | Pen Set |      55 |       12.49 | 686.95   |\n",
            "| 9/10/22     | Central  | Gill     | Pencil  |       7 |        1.29 | 9.03     |\n",
            "| 9/27/22     | West     | Sorvino  | Pen     |      76 |        1.99 | 151.24   |\n",
            "| 10/14/22    | West     | Thompson | Binder  |      57 |       19.99 | 1,139.43 |\n",
            "| 10/31/22    | Central  | Andrews  | Pencil  |      14 |        1.29 | 18.06    |\n",
            "| 11/17/22    | Central  | Jardine  | Binder  |      11 |        4.99 | 54.89    |\n",
            "| 12/4/22     | Central  | Jardine  | Binder  |      94 |       19.99 | 1,879.06 |\n",
            "| 12/21/22    | Central  | Andrews  | Binder  |      28 |        4.99 | 139.72   |\n",
            "+-------------+----------+----------+---------+---------+-------------+----------+\n"
          ]
        }
      ]
    },
    {
      "cell_type": "markdown",
      "source": [
        "Eliminate all duplicated records"
      ],
      "metadata": {
        "id": "RHyVKcnV6OUg"
      }
    },
    {
      "cell_type": "code",
      "source": [
        "df.drop_duplicates(inplace = True)\n",
        "print(tabulate(df, headers='keys', tablefmt='psql',showindex = False))"
      ],
      "metadata": {
        "colab": {
          "base_uri": "https://localhost:8080/"
        },
        "id": "pZeOXUT07F4i",
        "outputId": "739f2e10-6aa0-465d-8ce6-aff5928e80b2"
      },
      "execution_count": 58,
      "outputs": [
        {
          "output_type": "stream",
          "name": "stdout",
          "text": [
            "+-------------+----------+----------+---------+---------+-------------+----------+\n",
            "| OrderDate   | Region   | Rep      | Item    |   Units |   Unit Cost | Total    |\n",
            "|-------------+----------+----------+---------+---------+-------------+----------|\n",
            "| 1/6/21      | East     | Jones    | Pencil  |      95 |        1.99 | 189.05   |\n",
            "| 1/23/21     | Central  | Kivell   | Binder  |      50 |       19.99 | 999.50   |\n",
            "| 2/9/21      | Central  | Jardine  | Pencil  |      36 |        4.99 | 179.64   |\n",
            "| 2/26/21     | Central  | Gill     | Pen     |      27 |       19.99 | 539.73   |\n",
            "| 3/15/21     | West     | Sorvino  | Pencil  |      56 |        2.99 | 167.44   |\n",
            "| 4/1/21      | East     | Jones    | Binder  |      60 |        4.99 | 299.40   |\n",
            "| 4/18/21     | Central  | Andrews  | Pencil  |      75 |        1.99 | 149.25   |\n",
            "| 5/5/21      | Central  | Jardine  | Pencil  |      90 |        4.99 | 449.10   |\n",
            "| 5/22/21     | West     | Thompson | Pencil  |      32 |        1.99 | 63.68    |\n",
            "| 6/8/21      | East     | Jones    | Binder  |      60 |        8.99 | 539.40   |\n",
            "| 6/25/21     | Central  | Morgan   | Pencil  |      90 |        4.99 | 449.10   |\n",
            "| 7/12/21     | East     | Howard   | Binder  |      29 |        1.99 | 57.71    |\n",
            "| 7/29/21     | East     | Parent   | Binder  |      81 |       19.99 | 1,619.19 |\n",
            "| 8/15/21     | East     | Jones    | Pencil  |      35 |        4.99 | 174.65   |\n",
            "| 9/1/21      | Central  | Smith    | Desk    |       2 |      125    | 250.00   |\n",
            "| 10/5/21     | Central  | Morgan   | Binder  |      28 |        8.99 | 251.72   |\n",
            "| 10/22/21    | East     | Jones    | Pen     |      64 |        8.99 | 575.36   |\n",
            "| 11/8/21     | East     | Parent   | Pen     |      15 |       19.99 | 299.85   |\n",
            "| 11/25/21    | Central  | Kivell   | Pen Set |      96 |        4.99 | 479.04   |\n",
            "| 12/12/21    | Central  | Smith    | Pencil  |      67 |        1.29 | 86.43    |\n",
            "| 12/29/21    | East     | Parent   | Pen Set |      74 |       15.99 | 1,183.26 |\n",
            "| 2/1/22      | Central  | Smith    | Binder  |      87 |       15    | 1,305.00 |\n",
            "| 2/18/22     | East     | Jones    | Binder  |       4 |        4.99 | 19.96    |\n",
            "| 3/7/22      | West     | Sorvino  | Binder  |       7 |       19.99 | 139.93   |\n",
            "| 3/24/22     | Central  | Jardine  | Pen Set |      50 |        4.99 | 249.50   |\n",
            "| 4/10/22     | Central  | Andrews  | Pencil  |      66 |        1.99 | 131.34   |\n",
            "| 4/27/22     | East     | Howard   | Pen     |      96 |        4.99 | 479.04   |\n",
            "| 5/14/22     | Central  | Gill     | Pencil  |      53 |        1.29 | 68.37    |\n",
            "| 5/31/22     | Central  | Gill     | Binder  |      80 |        8.99 | 719.20   |\n",
            "| 6/17/22     | Central  | Kivell   | Desk    |       5 |      125    | 625.00   |\n",
            "| 7/4/22      | East     | Jones    | Pen Set |      62 |        4.99 | 309.38   |\n",
            "| 7/21/22     | Central  | Morgan   | Pen Set |      55 |       12.49 | 686.95   |\n",
            "| 9/10/22     | Central  | Gill     | Pencil  |       7 |        1.29 | 9.03     |\n",
            "| 9/27/22     | West     | Sorvino  | Pen     |      76 |        1.99 | 151.24   |\n",
            "| 10/14/22    | West     | Thompson | Binder  |      57 |       19.99 | 1,139.43 |\n",
            "| 10/31/22    | Central  | Andrews  | Pencil  |      14 |        1.29 | 18.06    |\n",
            "| 11/17/22    | Central  | Jardine  | Binder  |      11 |        4.99 | 54.89    |\n",
            "| 12/4/22     | Central  | Jardine  | Binder  |      94 |       19.99 | 1,879.06 |\n",
            "| 12/21/22    | Central  | Andrews  | Binder  |      28 |        4.99 | 139.72   |\n",
            "+-------------+----------+----------+---------+---------+-------------+----------+\n"
          ]
        }
      ]
    },
    {
      "cell_type": "markdown",
      "source": [
        "it removed ***data no.15/22/34/35***"
      ],
      "metadata": {
        "id": "UEfTMNdy70-Y"
      }
    },
    {
      "cell_type": "markdown",
      "source": [
        "Save the contents (removed duplicate records) into the new file SampleDataNew.csv"
      ],
      "metadata": {
        "id": "7fMfuUsg6n2S"
      }
    },
    {
      "cell_type": "code",
      "source": [
        "df.to_csv('SampleDataNew.csv', index = False)"
      ],
      "metadata": {
        "id": "P4zLBfiN7GZQ"
      },
      "execution_count": 62,
      "outputs": []
    }
  ]
}