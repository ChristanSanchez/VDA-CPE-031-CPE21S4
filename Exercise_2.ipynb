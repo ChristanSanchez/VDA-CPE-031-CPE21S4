{
  "nbformat": 4,
  "nbformat_minor": 0,
  "metadata": {
    "colab": {
      "provenance": [],
      "authorship_tag": "ABX9TyMN3G9t1NaIgiE/WQ1+pRx0",
      "include_colab_link": true
    },
    "kernelspec": {
      "name": "python3",
      "display_name": "Python 3"
    },
    "language_info": {
      "name": "python"
    }
  },
  "cells": [
    {
      "cell_type": "markdown",
      "metadata": {
        "id": "view-in-github",
        "colab_type": "text"
      },
      "source": [
        "<a href=\"https://colab.research.google.com/github/ChristanSanchez/VDA-CPE-031-CPE21S4/blob/main/Exercise_2.ipynb\" target=\"_parent\"><img src=\"https://colab.research.google.com/assets/colab-badge.svg\" alt=\"Open In Colab\"/></a>"
      ]
    },
    {
      "cell_type": "markdown",
      "source": [
        "EXAMPLE 1"
      ],
      "metadata": {
        "id": "1Ev6QB6UwrK8"
      }
    },
    {
      "cell_type": "code",
      "source": [
        "import pandas\n",
        "\n",
        "mydataset = {\n",
        "'animals':[\"Cat\",\"Dog\",\"rabbit\"],\n",
        "'height':[13,17,8]\n",
        "}\n",
        "\n",
        "myvar = pandas.DataFrame(mydataset)\n",
        "\n",
        "print(myvar)\n"
      ],
      "metadata": {
        "colab": {
          "base_uri": "https://localhost:8080/"
        },
        "id": "_9d9CqTRwton",
        "outputId": "19bf022c-a93e-47f2-a6f0-41f4f34b8f95"
      },
      "execution_count": 7,
      "outputs": [
        {
          "output_type": "stream",
          "name": "stdout",
          "text": [
            "  animals  height\n",
            "0     Cat      13\n",
            "1     Dog      17\n",
            "2  rabbit       8\n"
          ]
        }
      ]
    }
  ]
}